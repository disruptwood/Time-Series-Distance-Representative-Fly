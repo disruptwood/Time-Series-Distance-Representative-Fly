{
 "cells": [
  {
   "metadata": {},
   "cell_type": "markdown",
   "source": "# for testing",
   "id": "58f7b35b4c5dfe6c"
  },
  {
   "metadata": {
    "collapsed": true,
    "jupyter": {
     "outputs_hidden": true
    },
    "ExecuteTime": {
     "end_time": "2025-01-29T10:31:03.698023Z",
     "start_time": "2025-01-29T10:31:01.864760Z"
    }
   },
   "cell_type": "code",
   "outputs": [],
   "execution_count": 1,
   "source": [
    "# Comment: Import everything we need for this test notebook.\n",
    "import os\n",
    "import numpy as np\n",
    "import pandas as pd\n",
    "import pickle\n",
    "\n",
    "from data_loading.gather_mat_files_multiple import gather_mat_files_multiple_condition\n",
    "from data_loading.load_intervals import load_intervals_data\n",
    "from data_loading.load_scores import load_scores_data\n",
    "from data_loading.load_postprocessed import load_postprocessed_data\n",
    "\n",
    "# Comment: Define the base folder that contains your multiple-condition subfolders.\n",
    "base_folder = r\"D:\\behavior_ethogram_project_Ilya\"\n"
   ],
   "id": "initial_id"
  },
  {
   "cell_type": "code",
   "id": "35f2c620f90ccda4",
   "metadata": {
    "ExecuteTime": {
     "end_time": "2025-01-29T10:31:04.200784Z",
     "start_time": "2025-01-29T10:31:04.050173Z"
    }
   },
   "source": [
    "\n",
    "# Comment: 2) Gather .mat files for all conditions found under the base_folder\n",
    "all_condition_files, condition_names = gather_mat_files_multiple_condition([base_folder])\n",
    "\n",
    "\n",
    "# Comment: 4) Load postprocessed (binary) data for each condition/behavior combination.\n",
    "all_flies_post, post_index_map, post_cond_names = load_postprocessed_data(\n",
    "    all_condition_files,\n",
    "    single=False,\n",
    "    condition_names=condition_names\n",
    ")\n",
    "# Comment: 3) Load continuous scores data. This function normalizes each fly's data\n",
    "#            by the per-file (behavior) scoreNorm. We want to preserve the raw\n",
    "#            scoreNorm values as well. For that, we can store them separately\n",
    "#            (the code below shows how to collect them after calling load_scores_data).\n",
    "all_flies_scores, scores_index_map, scores_cond_names = load_scores_data(\n",
    "    all_condition_files,\n",
    "    single=False,\n",
    "    condition_names=condition_names\n",
    ")\n",
    "\n",
    "# Comment: The \"load_scores_data\" function in its current form normalizes the data in-place\n",
    "#          but doesn't store the raw scoreNorm values for external reference.\n",
    "#          If you want the actual float for each .mat file, you can modify that function to\n",
    "#          return them or to store them in a global structure. For demonstration, here's an\n",
    "#          approach that 'hooks' into your existing single-condition loader to gather them.\n"
   ],
   "outputs": [],
   "execution_count": 2
  },
  {
   "cell_type": "code",
   "id": "6ac4ad6e4d22ce4d",
   "metadata": {
    "ExecuteTime": {
     "end_time": "2025-01-29T10:31:07.606520Z",
     "start_time": "2025-01-29T10:31:07.555027Z"
    }
   },
   "source": [
    "# Comment: 5) Example snippet to \"hook\" into the load_scores_data logic and collect scoreNorms.\n",
    "#            We'll replicate the logic of _load_single_condition_scores, but store the norms.\n",
    "\n",
    "from scipy.io import loadmat\n",
    "\n",
    "def gather_scoreNorms(all_condition_files):\n",
    "    \"\"\"\n",
    "    Collect the raw scoreNorm values from each .mat file in each condition.\n",
    "    Returns a list-of-lists parallel to all_condition_files, containing float scoreNorms.\n",
    "    \"\"\"\n",
    "    norms_per_condition = []\n",
    "    for cond_idx, file_list in enumerate(all_condition_files):\n",
    "        cond_norms = []\n",
    "        for mf in file_list:\n",
    "            mat_data = loadmat(mf, struct_as_record=False, squeeze_me=True)['allScores']\n",
    "            if not hasattr(mat_data, 'scoreNorm'):\n",
    "                cond_norms.append(None)\n",
    "            else:\n",
    "                cond_norms.append(float(mat_data.scoreNorm))\n",
    "        norms_per_condition.append(cond_norms)\n",
    "    return norms_per_condition\n",
    "\n",
    "score_norms = gather_scoreNorms(all_condition_files)\n",
    "\n",
    "# Comment: Now 'score_norms' is a parallel structure to all_condition_files:\n",
    "#     score_norms[c_idx][b_idx] is the float norm for that condition c_idx, behavior b_idx.\n",
    "score_norms\n"
   ],
   "outputs": [
    {
     "data": {
      "text/plain": [
       "[[170.20867733940753], [170.20867733940753]]"
      ]
     },
     "execution_count": 3,
     "metadata": {},
     "output_type": "execute_result"
    }
   ],
   "execution_count": 3
  },
  {
   "cell_type": "code",
   "id": "931747c5cf7a2461",
   "metadata": {
    "ExecuteTime": {
     "end_time": "2025-01-29T10:31:13.865907Z",
     "start_time": "2025-01-29T10:31:13.843865Z"
    }
   },
   "source": [
    "# Comment: 6) Display a quick table of scoreNorms for each condition (row) and each behavior (column).\n",
    "#            We'll assume each condition has the same number of behaviors for a tidy DataFrame.\n",
    "df_norms = pd.DataFrame(score_norms, index=scores_cond_names)\n",
    "df_norms.columns = [f\"Behavior_{i}\" for i in range(df_norms.shape[1])]\n",
    "df_norms\n"
   ],
   "outputs": [
    {
     "data": {
      "text/plain": [
       "                                                   Behavior_0\n",
       "Assa_Females_Mated_Unknown_RigA_20220207T130211    170.208677\n",
       "Assa_Females_Singles_Unknown_RigA_20220206T100525  170.208677"
      ],
      "text/html": [
       "<div>\n",
       "<style scoped>\n",
       "    .dataframe tbody tr th:only-of-type {\n",
       "        vertical-align: middle;\n",
       "    }\n",
       "\n",
       "    .dataframe tbody tr th {\n",
       "        vertical-align: top;\n",
       "    }\n",
       "\n",
       "    .dataframe thead th {\n",
       "        text-align: right;\n",
       "    }\n",
       "</style>\n",
       "<table border=\"1\" class=\"dataframe\">\n",
       "  <thead>\n",
       "    <tr style=\"text-align: right;\">\n",
       "      <th></th>\n",
       "      <th>Behavior_0</th>\n",
       "    </tr>\n",
       "  </thead>\n",
       "  <tbody>\n",
       "    <tr>\n",
       "      <th>Assa_Females_Mated_Unknown_RigA_20220207T130211</th>\n",
       "      <td>170.208677</td>\n",
       "    </tr>\n",
       "    <tr>\n",
       "      <th>Assa_Females_Singles_Unknown_RigA_20220206T100525</th>\n",
       "      <td>170.208677</td>\n",
       "    </tr>\n",
       "  </tbody>\n",
       "</table>\n",
       "</div>"
      ]
     },
     "execution_count": 4,
     "metadata": {},
     "output_type": "execute_result"
    }
   ],
   "execution_count": 4
  },
  {
   "cell_type": "code",
   "execution_count": 5,
   "id": "420ac9217ff3cf2f",
   "metadata": {
    "ExecuteTime": {
     "end_time": "2025-01-28T19:26:35.768800Z",
     "start_time": "2025-01-28T19:26:35.745187Z"
    }
   },
   "outputs": [
    {
     "name": "stdout",
     "output_type": "stream",
     "text": [
      "Last fly scores shape: (27003, 11)\n"
     ]
    },
    {
     "data": {
      "text/html": [
       "<div>\n",
       "<style scoped>\n",
       "    .dataframe tbody tr th:only-of-type {\n",
       "        vertical-align: middle;\n",
       "    }\n",
       "\n",
       "    .dataframe tbody tr th {\n",
       "        vertical-align: top;\n",
       "    }\n",
       "\n",
       "    .dataframe thead th {\n",
       "        text-align: right;\n",
       "    }\n",
       "</style>\n",
       "<table border=\"1\" class=\"dataframe\">\n",
       "  <thead>\n",
       "    <tr style=\"text-align: right;\">\n",
       "      <th></th>\n",
       "      <th>BehaviorIndex</th>\n",
       "      <th>MaxScore</th>\n",
       "      <th>MeanScore</th>\n",
       "    </tr>\n",
       "  </thead>\n",
       "  <tbody>\n",
       "    <tr>\n",
       "      <th>0</th>\n",
       "      <td>0</td>\n",
       "      <td>1.612460</td>\n",
       "      <td>0.006987</td>\n",
       "    </tr>\n",
       "    <tr>\n",
       "      <th>1</th>\n",
       "      <td>1</td>\n",
       "      <td>1.252306</td>\n",
       "      <td>-0.807920</td>\n",
       "    </tr>\n",
       "    <tr>\n",
       "      <th>2</th>\n",
       "      <td>2</td>\n",
       "      <td>1.052559</td>\n",
       "      <td>-0.933055</td>\n",
       "    </tr>\n",
       "    <tr>\n",
       "      <th>3</th>\n",
       "      <td>3</td>\n",
       "      <td>0.798297</td>\n",
       "      <td>-0.761732</td>\n",
       "    </tr>\n",
       "    <tr>\n",
       "      <th>4</th>\n",
       "      <td>4</td>\n",
       "      <td>0.664500</td>\n",
       "      <td>-0.874180</td>\n",
       "    </tr>\n",
       "    <tr>\n",
       "      <th>5</th>\n",
       "      <td>5</td>\n",
       "      <td>1.047092</td>\n",
       "      <td>-0.740693</td>\n",
       "    </tr>\n",
       "    <tr>\n",
       "      <th>6</th>\n",
       "      <td>6</td>\n",
       "      <td>1.000000</td>\n",
       "      <td>-0.896570</td>\n",
       "    </tr>\n",
       "    <tr>\n",
       "      <th>7</th>\n",
       "      <td>7</td>\n",
       "      <td>1.204486</td>\n",
       "      <td>0.278284</td>\n",
       "    </tr>\n",
       "    <tr>\n",
       "      <th>8</th>\n",
       "      <td>8</td>\n",
       "      <td>1.514454</td>\n",
       "      <td>-0.813499</td>\n",
       "    </tr>\n",
       "    <tr>\n",
       "      <th>9</th>\n",
       "      <td>9</td>\n",
       "      <td>0.923359</td>\n",
       "      <td>-0.546976</td>\n",
       "    </tr>\n",
       "    <tr>\n",
       "      <th>10</th>\n",
       "      <td>10</td>\n",
       "      <td>1.367278</td>\n",
       "      <td>-0.109031</td>\n",
       "    </tr>\n",
       "  </tbody>\n",
       "</table>\n",
       "</div>"
      ],
      "text/plain": [
       "    BehaviorIndex  MaxScore  MeanScore\n",
       "0               0  1.612460   0.006987\n",
       "1               1  1.252306  -0.807920\n",
       "2               2  1.052559  -0.933055\n",
       "3               3  0.798297  -0.761732\n",
       "4               4  0.664500  -0.874180\n",
       "5               5  1.047092  -0.740693\n",
       "6               6  1.000000  -0.896570\n",
       "7               7  1.204486   0.278284\n",
       "8               8  1.514454  -0.813499\n",
       "9               9  0.923359  -0.546976\n",
       "10             10  1.367278  -0.109031"
      ]
     },
     "execution_count": 5,
     "metadata": {},
     "output_type": "execute_result"
    }
   ],
   "source": [
    "# Comment: 7) For demonstration, let's pick the \"last loaded fly\" from the scores and\n",
    "#            show its shape, then gather some summary stats (like max in each column).\n",
    "last_fly_scores = all_flies_scores[-1]  # (T,B) array\n",
    "print(\"Last fly scores shape:\", last_fly_scores.shape)\n",
    "\n",
    "score_summaries = []\n",
    "if last_fly_scores.ndim == 2:\n",
    "    B = last_fly_scores.shape[1]\n",
    "    for b_idx in range(B):\n",
    "        col_data = last_fly_scores[:, b_idx]\n",
    "        valid = col_data[~np.isnan(col_data)]\n",
    "        max_val = valid.max() if len(valid) else np.nan\n",
    "        mean_val = valid.mean() if len(valid) else np.nan\n",
    "        score_summaries.append({\n",
    "            \"BehaviorIndex\": b_idx,\n",
    "            \"MaxScore\": max_val,\n",
    "            \"MeanScore\": mean_val\n",
    "        })\n",
    "df_score_summary = pd.DataFrame(score_summaries)\n",
    "df_score_summary\n"
   ]
  },
  {
   "cell_type": "code",
   "execution_count": 6,
   "id": "c2ae88dccdce7cb1",
   "metadata": {
    "ExecuteTime": {
     "end_time": "2025-01-28T19:26:48.010406Z",
     "start_time": "2025-01-28T19:26:47.970416Z"
    }
   },
   "outputs": [
    {
     "data": {
      "text/html": [
       "<div>\n",
       "<style scoped>\n",
       "    .dataframe tbody tr th:only-of-type {\n",
       "        vertical-align: middle;\n",
       "    }\n",
       "\n",
       "    .dataframe tbody tr th {\n",
       "        vertical-align: top;\n",
       "    }\n",
       "\n",
       "    .dataframe thead th {\n",
       "        text-align: right;\n",
       "    }\n",
       "</style>\n",
       "<table border=\"1\" class=\"dataframe\">\n",
       "  <thead>\n",
       "    <tr style=\"text-align: right;\">\n",
       "      <th></th>\n",
       "      <th>BehaviorIndex</th>\n",
       "      <th>Count1</th>\n",
       "      <th>Count0</th>\n",
       "    </tr>\n",
       "  </thead>\n",
       "  <tbody>\n",
       "    <tr>\n",
       "      <th>0</th>\n",
       "      <td>0</td>\n",
       "      <td>14127</td>\n",
       "      <td>12876</td>\n",
       "    </tr>\n",
       "    <tr>\n",
       "      <th>1</th>\n",
       "      <td>1</td>\n",
       "      <td>162</td>\n",
       "      <td>26841</td>\n",
       "    </tr>\n",
       "    <tr>\n",
       "      <th>2</th>\n",
       "      <td>2</td>\n",
       "      <td>824</td>\n",
       "      <td>26179</td>\n",
       "    </tr>\n",
       "    <tr>\n",
       "      <th>3</th>\n",
       "      <td>3</td>\n",
       "      <td>2582</td>\n",
       "      <td>24421</td>\n",
       "    </tr>\n",
       "    <tr>\n",
       "      <th>4</th>\n",
       "      <td>4</td>\n",
       "      <td>241</td>\n",
       "      <td>26762</td>\n",
       "    </tr>\n",
       "    <tr>\n",
       "      <th>5</th>\n",
       "      <td>5</td>\n",
       "      <td>3675</td>\n",
       "      <td>23328</td>\n",
       "    </tr>\n",
       "    <tr>\n",
       "      <th>6</th>\n",
       "      <td>6</td>\n",
       "      <td>329</td>\n",
       "      <td>26674</td>\n",
       "    </tr>\n",
       "    <tr>\n",
       "      <th>7</th>\n",
       "      <td>7</td>\n",
       "      <td>16188</td>\n",
       "      <td>10815</td>\n",
       "    </tr>\n",
       "    <tr>\n",
       "      <th>8</th>\n",
       "      <td>8</td>\n",
       "      <td>3077</td>\n",
       "      <td>23926</td>\n",
       "    </tr>\n",
       "    <tr>\n",
       "      <th>9</th>\n",
       "      <td>9</td>\n",
       "      <td>1381</td>\n",
       "      <td>25622</td>\n",
       "    </tr>\n",
       "    <tr>\n",
       "      <th>10</th>\n",
       "      <td>10</td>\n",
       "      <td>8894</td>\n",
       "      <td>18109</td>\n",
       "    </tr>\n",
       "  </tbody>\n",
       "</table>\n",
       "</div>"
      ],
      "text/plain": [
       "    BehaviorIndex  Count1  Count0\n",
       "0               0   14127   12876\n",
       "1               1     162   26841\n",
       "2               2     824   26179\n",
       "3               3    2582   24421\n",
       "4               4     241   26762\n",
       "5               5    3675   23328\n",
       "6               6     329   26674\n",
       "7               7   16188   10815\n",
       "8               8    3077   23926\n",
       "9               9    1381   25622\n",
       "10             10    8894   18109"
      ]
     },
     "execution_count": 6,
     "metadata": {},
     "output_type": "execute_result"
    }
   ],
   "source": [
    "# Comment: 8) Similarly, we can examine the last loaded fly's postprocessed data\n",
    "#            and see how many 1's and 0's appear in each column.\n",
    "last_fly_post = all_flies_post[-1]  # (T,B) array\n",
    "binary_stats = []\n",
    "if last_fly_post.ndim == 2:\n",
    "    B = last_fly_post.shape[1]\n",
    "    for b_idx in range(B):\n",
    "        col = last_fly_post[:, b_idx]\n",
    "        col_no_nan = col[~np.isnan(col)]\n",
    "        num_ones  = np.sum(col_no_nan == 1)\n",
    "        num_zeros = np.sum(col_no_nan == 0)\n",
    "        binary_stats.append({\n",
    "            \"BehaviorIndex\": b_idx,\n",
    "            \"Count1\": int(num_ones),\n",
    "            \"Count0\": int(num_zeros)\n",
    "        })\n",
    "df_binary = pd.DataFrame(binary_stats)\n",
    "df_binary\n"
   ]
  },
  {
   "cell_type": "code",
   "execution_count": 10,
   "id": "e4073e7457e7a39c",
   "metadata": {
    "ExecuteTime": {
     "end_time": "2025-01-28T19:33:37.422687Z",
     "start_time": "2025-01-28T19:33:37.358715Z"
    }
   },
   "outputs": [
    {
     "name": "stdout",
     "output_type": "stream",
     "text": [
      "Postprocessed data (with behavior names) saved to D:\\behavior_ethogram_project_Ilya\\postprocessed_data.pkl\n"
     ]
    }
   ],
   "source": [
    "\n",
    "# 9) Capture behavior names by parsing filenames for each condition\n",
    "behavior_names_per_condition = []\n",
    "for cond_files in all_condition_files:\n",
    "    # cond_files is a list of .mat filepaths for a single condition\n",
    "    names_for_this_cond = []\n",
    "    for filepath in cond_files:\n",
    "        base = os.path.basename(filepath)            # e.g. \"scores_Grooming.mat\"\n",
    "        no_ext = os.path.splitext(base)[0]           # e.g. \"scores_Grooming\"\n",
    "        # behavior name is everything after first underscore, or if multiple underscores, up to user logic\n",
    "        # example: \"scores_Grooming\" => \"Grooming\"\n",
    "        parts = no_ext.split(\"_\", 1)  # split once on first '_'\n",
    "        if len(parts) == 2:\n",
    "            behavior_name = parts[1]  # e.g. \"Grooming\"\n",
    "        else:\n",
    "            behavior_name = no_ext   # fallback if unexpected format\n",
    "        names_for_this_cond.append(behavior_name)\n",
    "    behavior_names_per_condition.append(names_for_this_cond)\n",
    "\n",
    "# 2) Create a dictionary of everything you want to export\n",
    "export_data = {\n",
    "    \"postprocessed_data\": all_flies_post,        # global list of postprocessed (T,B) arrays\n",
    "    \"index_map\": post_index_map,\n",
    "    \"condition_names\": post_cond_names,\n",
    "    \"behavior_names_per_condition\": behavior_names_per_condition\n",
    "}\n",
    "\n",
    "# 3) Save this to a pickle in your base_folder\n",
    "export_path = os.path.join(base_folder, \"postprocessed_data.pkl\")\n",
    "with open(export_path, \"wb\") as f:\n",
    "    pickle.dump(export_data, f)\n",
    "\n",
    "print(f\"Postprocessed data (with behavior names) saved to {export_path}\")"
   ]
  },
  {
   "cell_type": "markdown",
   "id": "5a4fd38621d9cd88",
   "metadata": {},
   "source": [
    "EXPORT TO CSV"
   ]
  },
  {
   "cell_type": "code",
   "execution_count": 3,
   "id": "5cd1d0842481ee55",
   "metadata": {
    "ExecuteTime": {
     "end_time": "2025-01-28T20:12:23.132729Z",
     "start_time": "2025-01-28T20:11:38.382463Z"
    }
   },
   "outputs": [
    {
     "name": "stdout",
     "output_type": "stream",
     "text": [
      "Gathered Mat Files:\n",
      "Condition 'Assa_Females_Mated_Unknown_RigA_20220207T130211' has 11 file(s):\n",
      "  - D:\\behavior_ethogram_project_Ilya\\Assa_Females_Mated_Unknown_RigA_20220207T130211\\scores_Grooming.mat\n",
      "  - D:\\behavior_ethogram_project_Ilya\\Assa_Females_Mated_Unknown_RigA_20220207T130211\\scores_Jump.mat\n",
      "  - D:\\behavior_ethogram_project_Ilya\\Assa_Females_Mated_Unknown_RigA_20220207T130211\\scores_Long_Distance_Approach.mat\n",
      "  - D:\\behavior_ethogram_project_Ilya\\Assa_Females_Mated_Unknown_RigA_20220207T130211\\scores_Long_Lasting_Interaction.mat\n",
      "  - D:\\behavior_ethogram_project_Ilya\\Assa_Females_Mated_Unknown_RigA_20220207T130211\\scores_Short_Distance_Approach.mat\n",
      "  - D:\\behavior_ethogram_project_Ilya\\Assa_Females_Mated_Unknown_RigA_20220207T130211\\scores_Social_Clustering.mat\n",
      "  - D:\\behavior_ethogram_project_Ilya\\Assa_Females_Mated_Unknown_RigA_20220207T130211\\scores_Stable_Interaction.mat\n",
      "  - D:\\behavior_ethogram_project_Ilya\\Assa_Females_Mated_Unknown_RigA_20220207T130211\\scores_Stop.mat\n",
      "  - D:\\behavior_ethogram_project_Ilya\\Assa_Females_Mated_Unknown_RigA_20220207T130211\\scores_Touch.mat\n",
      "  - D:\\behavior_ethogram_project_Ilya\\Assa_Females_Mated_Unknown_RigA_20220207T130211\\scores_Turn.mat\n",
      "  - D:\\behavior_ethogram_project_Ilya\\Assa_Females_Mated_Unknown_RigA_20220207T130211\\scores_Walk.mat\n",
      "Condition 'Assa_Females_Singles_Unknown_RigA_20220206T100525' has 11 file(s):\n",
      "  - D:\\behavior_ethogram_project_Ilya\\Assa_Females_Singles_Unknown_RigA_20220206T100525\\scores_Grooming.mat\n",
      "  - D:\\behavior_ethogram_project_Ilya\\Assa_Females_Singles_Unknown_RigA_20220206T100525\\scores_Jump.mat\n",
      "  - D:\\behavior_ethogram_project_Ilya\\Assa_Females_Singles_Unknown_RigA_20220206T100525\\scores_Long_Distance_Approach.mat\n",
      "  - D:\\behavior_ethogram_project_Ilya\\Assa_Females_Singles_Unknown_RigA_20220206T100525\\scores_Long_Lasting_Interaction.mat\n",
      "  - D:\\behavior_ethogram_project_Ilya\\Assa_Females_Singles_Unknown_RigA_20220206T100525\\scores_Short_Distance_Approach.mat\n",
      "  - D:\\behavior_ethogram_project_Ilya\\Assa_Females_Singles_Unknown_RigA_20220206T100525\\scores_Social_Clustering.mat\n",
      "  - D:\\behavior_ethogram_project_Ilya\\Assa_Females_Singles_Unknown_RigA_20220206T100525\\scores_Stable_Interaction.mat\n",
      "  - D:\\behavior_ethogram_project_Ilya\\Assa_Females_Singles_Unknown_RigA_20220206T100525\\scores_Stop.mat\n",
      "  - D:\\behavior_ethogram_project_Ilya\\Assa_Females_Singles_Unknown_RigA_20220206T100525\\scores_Touch.mat\n",
      "  - D:\\behavior_ethogram_project_Ilya\\Assa_Females_Singles_Unknown_RigA_20220206T100525\\scores_Turn.mat\n",
      "  - D:\\behavior_ethogram_project_Ilya\\Assa_Females_Singles_Unknown_RigA_20220206T100525\\scores_Walk.mat\n",
      "\n",
      "\n",
      "Exported combined CSV to D:\\behavior_ethogram_project_Ilya\\output_combined_scores.csv\n"
     ]
    }
   ],
   "source": [
    "import os\n",
    "import scipy.io as spio\n",
    "import mat73\n",
    "import numpy as np\n",
    "import pandas as pd\n",
    "import sys\n",
    "\n",
    "def _dict2list_of_dicts(input_dict):\n",
    "    \"\"\"\n",
    "    Transposes a dictionary of lists to a list of dictionaries.\n",
    "    \"\"\"\n",
    "    keys = list(input_dict.keys())\n",
    "    length = len(input_dict[keys[0]])\n",
    "    output_list = []\n",
    "    for i in range(length):\n",
    "        temp_dict = {key: input_dict[key][i] for key in keys}\n",
    "        output_list.append(temp_dict)\n",
    "    return output_list\n",
    "\n",
    "def _listofdicts_clean_scalar_arrays(listofdicts):\n",
    "    \"\"\"\n",
    "    Cleans scalar arrays by converting numpy arrays of shape () to numeric values.\n",
    "    \"\"\"\n",
    "    def _scalar_array2num(value):\n",
    "        if isinstance(value, np.ndarray) and value.shape == ():\n",
    "            scalar_value = value.item()\n",
    "            if isinstance(scalar_value, float) and scalar_value.is_integer():\n",
    "                return int(scalar_value)\n",
    "            return scalar_value\n",
    "        return value\n",
    "\n",
    "    output_list = []\n",
    "    for dictionary in listofdicts:\n",
    "        output_dict = {}\n",
    "        for key, value in dictionary.items():\n",
    "            output_dict[key] = _scalar_array2num(value)\n",
    "        output_list.append(output_dict)\n",
    "    return output_list\n",
    "\n",
    "class struct2df():\n",
    "    def __init__(self, matfile):\n",
    "        \"\"\"\n",
    "        Initializes the struct2df object by loading and processing the .mat file.\n",
    "        Extracts scores, processed scores, behavior name, and scoreNorm if available.\n",
    "        \"\"\"\n",
    "        try:\n",
    "            self.mat_dict = spio.loadmat(matfile, simplify_cells=True)\n",
    "        except NotImplementedError:\n",
    "            self.mat_dict = mat73.loadmat(matfile)\n",
    "            if 'trx' in self.mat_dict:\n",
    "                temp_ls_of_dicts = _dict2list_of_dicts(self.mat_dict['trx'])\n",
    "                self.mat_dict['trx'] = _listofdicts_clean_scalar_arrays(temp_ls_of_dicts)\n",
    "\n",
    "        self.scores = pd.DataFrame()\n",
    "        self.processed_scores = pd.DataFrame()\n",
    "        self.behavior_name = ''\n",
    "        self.dtype = ''\n",
    "        self.scoreNorm = None  # Initialize scoreNorm\n",
    "\n",
    "        if 'allScores' in self.mat_dict.keys():\n",
    "            self.dtype = 'scores'\n",
    "            self.behavior_name = (os.path.basename(matfile)).replace('.mat', '').replace(\"scores_\", \"\")\n",
    "            scores_dict = {}\n",
    "            postprocessed_dict = {}\n",
    "            for idx in range(len(self.mat_dict['allScores']['scores'])):\n",
    "                scores_dict.update({idx+1: self.mat_dict['allScores']['scores'][idx]})\n",
    "                postprocessed_dict.update({idx+1: self.mat_dict['allScores']['postprocessed'][idx]})\n",
    "            self.scores = pd.DataFrame(scores_dict)\n",
    "            self.processed_scores = pd.DataFrame(postprocessed_dict)\n",
    "\n",
    "        # Extract scoreNorm if available\n",
    "        if 'scoreNorm' in self.mat_dict:\n",
    "            try:\n",
    "                self.scoreNorm = float(self.mat_dict['scoreNorm'])\n",
    "            except (TypeError, ValueError):\n",
    "                self.scoreNorm = np.nan\n",
    "        elif 'allScores' in self.mat_dict and 'scoreNorm' in self.mat_dict['allScores']:\n",
    "            try:\n",
    "                self.scoreNorm = float(self.mat_dict['allScores']['scoreNorm'])\n",
    "            except (TypeError, ValueError):\n",
    "                self.scoreNorm = np.nan\n",
    "        else:\n",
    "            self.scoreNorm = np.nan  # or set a default value if appropriate\n",
    "\n",
    "    def save_perframe_or_behavior(self, name=''):\n",
    "        \"\"\"\n",
    "        Saves scores and processed scores to CSV files.\n",
    "        \"\"\"\n",
    "        if self.dtype == 'scores':\n",
    "            self.scores.to_csv(f\"{name}_{self.behavior_name}_scores.csv\", index=False)\n",
    "            self.processed_scores.to_csv(f\"{name}_{self.behavior_name}_processed_scores.csv\", index=False)\n",
    "\n",
    "def export_all_scores_to_csv(all_condition_files, condition_names, out_csv):\n",
    "    \"\"\"\n",
    "    Reads each scores_*.mat in all_condition_files, merges them into one long table with:\n",
    "      - Condition name\n",
    "      - Behavior name\n",
    "      - Fly ID\n",
    "      - Frame index\n",
    "      - Score\n",
    "      - ProcessedScore\n",
    "      - scoreNorm\n",
    "    Saves the combined table to out_csv.\n",
    "\n",
    "    Parameters:\n",
    "    - all_condition_files: List of lists of paths to scores_*.mat files.\n",
    "    - condition_names: List of condition names corresponding to each sublist.\n",
    "    - out_csv: Path to the output CSV file.\n",
    "    \"\"\"\n",
    "    combined = []\n",
    "    for condition_files, cond_name in zip(all_condition_files, condition_names):\n",
    "        for mat_path in condition_files:\n",
    "            # Ensure mat_path is a string\n",
    "            if not isinstance(mat_path, str):\n",
    "                print(f\"Skipping file {mat_path}: Path is not a string.\")\n",
    "                continue\n",
    "\n",
    "            # Check if file exists\n",
    "            if not os.path.isfile(mat_path):\n",
    "                print(f\"Skipping file {mat_path}: File does not exist.\")\n",
    "                continue\n",
    "\n",
    "            s2df = struct2df(mat_path)\n",
    "\n",
    "            # Check if scores and processed_scores are available\n",
    "            if s2df.dtype != 'scores':\n",
    "                print(f\"Skipping file {mat_path}: Not a scores type mat file.\")\n",
    "                continue\n",
    "\n",
    "            # Melt scores to long format\n",
    "            scores_long = s2df.scores.reset_index().melt(\n",
    "                id_vars='index', var_name='FlyID', value_name='Score'\n",
    "            )\n",
    "            scores_long.rename(columns={'index': 'Frame'}, inplace=True)\n",
    "\n",
    "            # Melt processed_scores to long format\n",
    "            proc_long = s2df.processed_scores.reset_index().melt(\n",
    "                id_vars='index', var_name='FlyID', value_name='ProcessedScore'\n",
    "            )\n",
    "            proc_long.rename(columns={'index': 'Frame'}, inplace=True)\n",
    "\n",
    "            # Merge scores and processed_scores on Frame and FlyID\n",
    "            merged = pd.merge(scores_long, proc_long, on=['Frame', 'FlyID'], how='outer')\n",
    "\n",
    "            # Add Condition and Behavior columns\n",
    "            merged['Condition'] = cond_name\n",
    "            merged['Behavior'] = s2df.behavior_name\n",
    "\n",
    "            # Add scoreNorm column if available\n",
    "            if not pd.isna(s2df.scoreNorm):\n",
    "                merged['scoreNorm'] = s2df.scoreNorm\n",
    "            else:\n",
    "                merged['scoreNorm'] = np.nan  # or handle as needed\n",
    "\n",
    "            combined.append(merged)\n",
    "\n",
    "    # Concatenate all merged dataframes\n",
    "    if combined:\n",
    "        final_df = pd.concat(combined, ignore_index=True)\n",
    "        final_df.to_csv(out_csv, index=False)\n",
    "        print(f\"Exported combined CSV to {out_csv}\")\n",
    "    else:\n",
    "        print(\"No data to export.\")\n",
    "\n",
    "# Example usage:\n",
    "if __name__ == \"__main__\":\n",
    "    # Define your base folder\n",
    "    base_folder = r\"D:\\behavior_ethogram_project_Ilya\"\n",
    "\n",
    "    # Gather all scores_*.mat files and their condition names\n",
    "    try:\n",
    "        all_condition_files, condition_names = gather_mat_files_multiple_condition([base_folder])\n",
    "    except RuntimeError as e:\n",
    "        print(f\"Error during file gathering: {e}\")\n",
    "        sys.exit(1)\n",
    "\n",
    "    # Debug: Print gathered files and conditions\n",
    "    print(\"Gathered Mat Files:\")\n",
    "    for idx, files in enumerate(all_condition_files):\n",
    "        print(f\"Condition '{condition_names[idx]}' has {len(files)} file(s):\")\n",
    "        for file in files:\n",
    "            print(f\"  - {file}\")\n",
    "    print(\"\\n\")\n",
    "\n",
    "    # Define the output CSV path\n",
    "    out_csv = r\"D:\\behavior_ethogram_project_Ilya\\output_combined_scores.csv\"\n",
    "\n",
    "    # Export all scores to CSV\n",
    "    export_all_scores_to_csv(all_condition_files, condition_names, out_csv)\n"
   ]
  },
  {
   "cell_type": "code",
   "execution_count": 15,
   "id": "69d024bdce053d92",
   "metadata": {
    "ExecuteTime": {
     "end_time": "2025-01-28T20:06:03.493979Z",
     "start_time": "2025-01-28T20:06:03.484558Z"
    }
   },
   "outputs": [
    {
     "name": "stdout",
     "output_type": "stream",
     "text": [
      "([], [])\n"
     ]
    }
   ],
   "source": [
    "print(gather_mat_files_multiple_condition([base_folder]))"
   ]
  },
  {
   "metadata": {},
   "cell_type": "markdown",
   "source": "DATA CLUSTERING",
   "id": "7a32a61bcf814228"
  },
  {
   "metadata": {
    "ExecuteTime": {
     "end_time": "2025-01-28T23:09:04.541966Z",
     "start_time": "2025-01-28T23:08:57.193770Z"
    }
   },
   "cell_type": "code",
   "source": [
    "import matplotlib.pyplot as plt\n",
    "\n",
    "# SciPy and scikit-learn for clustering and visualization\n",
    "from scipy.cluster.hierarchy import dendrogram, linkage\n",
    "from scipy.spatial.distance import squareform\n",
    "from sklearn.cluster import KMeans\n",
    "from sklearn.manifold import MDS\n",
    "from data_loading.unify_lengths import unify_lengths\n",
    "import matplotlib.patches as mpatches\n",
    "# Distance function imports\n",
    "from distance_calculation.approach1_multi_hot import approach1_multi_hot_distance\n",
    "from distance_calculation.approach2_intervals import approach2_interval_distance\n",
    "from distance_calculation.approach3_markov import approach3_markov_distance\n",
    "from distance_calculation.approach4_scores import approach4_scores_distance\n",
    "from distance_calculation.approach5_simple_euclidean import approach5_simple_euclidean_distance\n",
    "from distance_calculation.compute_distance_matrix import compute_distance_matrix"
   ],
   "id": "aa5a122a2e9b31fe",
   "outputs": [],
   "execution_count": 2
  },
  {
   "metadata": {
    "ExecuteTime": {
     "end_time": "2025-01-28T23:09:57.015854Z",
     "start_time": "2025-01-28T23:09:07.593888Z"
    }
   },
   "cell_type": "code",
   "source": [
    "# ----------------------------------------------------\n",
    "# Main Clustering and Visualization Code\n",
    "# ----------------------------------------------------\n",
    "if __name__ == \"__main__\":\n",
    "    # Choose approach_id = 1 for multi-hot\n",
    "    approach_id = 1\n",
    "\n",
    "    # Base folder where .mat files or other data files are located\n",
    "    base_folder = r\"D:\\behavior_ethogram_project_Ilya\"\n",
    "\n",
    "    # Gather data files from multiple conditions\n",
    "    all_condition_files, condition_names = gather_mat_files_multiple_condition(base_folder)\n",
    "\n",
    "    # Load data based on chosen approach\n",
    "    if approach_id == 1:\n",
    "        all_flies, index_map, condition_names = load_postprocessed_data(\n",
    "            all_condition_files, single=False, condition_names=condition_names\n",
    "        )\n",
    "    elif approach_id == 2:\n",
    "        all_flies, index_map, condition_names = load_intervals_data(\n",
    "            all_condition_files, single=False, condition_names=condition_names\n",
    "        )\n",
    "    elif approach_id in [3, 4, 5]:\n",
    "        all_flies, index_map, condition_names = load_scores_data(\n",
    "            all_condition_files, single=False, condition_names=condition_names\n",
    "        )\n",
    "    else:\n",
    "        print(\"Unknown approach_id.\")\n",
    "        raise SystemExit\n",
    "\n",
    "    # Unify lengths if needed (for approaches 1, 3, 4, 5)\n",
    "    if approach_id in [1, 3, 4, 5]:\n",
    "        shapes = [f.shape for f in all_flies]\n",
    "        # If there's inconsistency in time points, unify\n",
    "        if len(set(shapes)) != 1:\n",
    "            data_3d = unify_lengths(all_flies, fill_value=0.0)\n",
    "            all_flies = [data_3d[i] for i in range(data_3d.shape[0])]\n",
    "\n",
    "    # Compute the N x N distance matrix\n",
    "    dist_mat = compute_distance_matrix(all_flies, approach_id)\n"
   ],
   "id": "d69470cc06b71563",
   "outputs": [],
   "execution_count": 3
  },
  {
   "metadata": {
    "ExecuteTime": {
     "end_time": "2025-01-28T23:09:57.188399Z",
     "start_time": "2025-01-28T23:09:57.176098Z"
    }
   },
   "cell_type": "code",
   "source": [
    "# ----------------------------------------------------\n",
    "# Prepare Labels and Color Mapping\n",
    "# ----------------------------------------------------\n",
    "\n",
    "N = len(all_flies)\n",
    "fly_labels = [f\"Fly_{i+1}\" for i in range(N)]  # Fly_1, Fly_2, ..., Fly_N\n",
    "\n",
    "\n",
    "conditions = condition_names\n",
    "\n",
    "# Get unique conditions and assign colors\n",
    "unique_conditions = list(set(conditions))\n",
    "unique_conditions.sort()  # Optional: sort for consistent color assignment\n",
    "num_conditions = len(unique_conditions)\n",
    "cmap = plt.get_cmap('tab10')  # Choose a colormap with enough distinct colors\n",
    "condition_colors = {cond: cmap(i % 10) for i, cond in enumerate(unique_conditions)}\n",
    "\n",
    "# Assign a color to each fly based on its condition\n",
    "fly_colors = [condition_colors[cond] for cond in conditions]"
   ],
   "id": "826a6e9d991316c4",
   "outputs": [],
   "execution_count": 5
  },
  {
   "metadata": {
    "ExecuteTime": {
     "end_time": "2025-01-28T23:09:58.076033Z",
     "start_time": "2025-01-28T23:09:57.231204Z"
    }
   },
   "cell_type": "code",
   "source": [
    "# ----------------------------------------------------\n",
    "# 1) Hierarchical Clustering Visualization\n",
    "# ----------------------------------------------------\n",
    "plt.figure(figsize=(12, 6))\n",
    "\n",
    "# Convert the distance matrix to condensed form for linkage\n",
    "condensed_dist = squareform(dist_mat)\n",
    "\n",
    "# Perform hierarchical clustering using Ward's method\n",
    "Z = linkage(condensed_dist, method='ward')\n",
    "\n",
    "# Plot the dendrogram without labels\n",
    "dendrogram(\n",
    "    Z,\n",
    "    no_labels=True,\n",
    "    color_threshold=0  # Disable default color thresholds\n",
    ")\n",
    "\n",
    "plt.title(\"Hierarchical Clustering Dendrogram (Ward Linkage)\")\n",
    "plt.xlabel(\"Flies\")\n",
    "plt.ylabel(\"Distance\")\n",
    "\n",
    "# Create custom legend for conditions\n",
    "legend_patches = [mpatches.Patch(color=condition_colors[cond], label=cond) for cond in unique_conditions]\n",
    "plt.legend(handles=legend_patches, title=\"Conditions\", bbox_to_anchor=(1.05, 1), loc='upper left')\n",
    "\n",
    "plt.tight_layout()\n",
    "plt.show()"
   ],
   "id": "2b0278cd311c084b",
   "outputs": [
    {
     "data": {
      "text/plain": [
       "<Figure size 1200x600 with 1 Axes>"
      ],
      "image/png": "[encoded data removed]"
     },
     "metadata": {},
     "output_type": "display_data"
    }
   ],
   "execution_count": 6
  },
  {
   "metadata": {
    "ExecuteTime": {
     "end_time": "2025-01-28T23:10:20.761064Z",
     "start_time": "2025-01-28T23:10:17.711782Z"
    }
   },
   "cell_type": "code",
   "source": [
    "# ----------------------------------------------------\n",
    "# 2) MDS Visualization of Distance Matrix\n",
    "# ----------------------------------------------------\n",
    "mds = MDS(n_components=2, dissimilarity='precomputed', random_state=42)\n",
    "coords = mds.fit_transform(dist_mat)\n",
    "\n",
    "plt.figure(figsize=(10, 8))\n",
    "scatter = plt.scatter(coords[:, 0], coords[:, 1], c=fly_colors, s=100, alpha=0.7)\n",
    "\n",
    "# Optionally, annotate each point with its Fly ID\n",
    "for i, label in enumerate(fly_labels):\n",
    "    plt.text(coords[i, 0]+0.02, coords[i, 1]+0.02, label, fontsize=9)\n",
    "\n",
    "plt.title(\"MDS Projection of Flies (Approach 1)\")\n",
    "plt.xlabel(\"MDS Dimension 1\")\n",
    "plt.ylabel(\"MDS Dimension 2\")\n",
    "plt.grid(True)\n",
    "\n",
    "# Create custom legend for conditions\n",
    "plt.legend(handles=legend_patches, title=\"Conditions\", bbox_to_anchor=(1.05, 1), loc='upper left')\n",
    "\n",
    "plt.tight_layout()\n",
    "plt.show()"
   ],
   "id": "ae5d64aeca4ae261",
   "outputs": [
    {
     "ename": "ValueError",
     "evalue": "'c' argument has 16 elements, which is inconsistent with 'x' and 'y' with size 160.",
     "output_type": "error",
     "traceback": [
      "\u001B[1;31m---------------------------------------------------------------------------\u001B[0m",
      "\u001B[1;31mValueError\u001B[0m                                Traceback (most recent call last)",
      "Cell \u001B[1;32mIn[7], line 8\u001B[0m\n\u001B[0;32m      5\u001B[0m coords \u001B[38;5;241m=\u001B[39m mds\u001B[38;5;241m.\u001B[39mfit_transform(dist_mat)\n\u001B[0;32m      7\u001B[0m plt\u001B[38;5;241m.\u001B[39mfigure(figsize\u001B[38;5;241m=\u001B[39m(\u001B[38;5;241m10\u001B[39m, \u001B[38;5;241m8\u001B[39m))\n\u001B[1;32m----> 8\u001B[0m scatter \u001B[38;5;241m=\u001B[39m \u001B[43mplt\u001B[49m\u001B[38;5;241;43m.\u001B[39;49m\u001B[43mscatter\u001B[49m\u001B[43m(\u001B[49m\u001B[43mcoords\u001B[49m\u001B[43m[\u001B[49m\u001B[43m:\u001B[49m\u001B[43m,\u001B[49m\u001B[43m \u001B[49m\u001B[38;5;241;43m0\u001B[39;49m\u001B[43m]\u001B[49m\u001B[43m,\u001B[49m\u001B[43m \u001B[49m\u001B[43mcoords\u001B[49m\u001B[43m[\u001B[49m\u001B[43m:\u001B[49m\u001B[43m,\u001B[49m\u001B[43m \u001B[49m\u001B[38;5;241;43m1\u001B[39;49m\u001B[43m]\u001B[49m\u001B[43m,\u001B[49m\u001B[43m \u001B[49m\u001B[43mc\u001B[49m\u001B[38;5;241;43m=\u001B[39;49m\u001B[43mfly_colors\u001B[49m\u001B[43m,\u001B[49m\u001B[43m \u001B[49m\u001B[43ms\u001B[49m\u001B[38;5;241;43m=\u001B[39;49m\u001B[38;5;241;43m100\u001B[39;49m\u001B[43m,\u001B[49m\u001B[43m \u001B[49m\u001B[43malpha\u001B[49m\u001B[38;5;241;43m=\u001B[39;49m\u001B[38;5;241;43m0.7\u001B[39;49m\u001B[43m)\u001B[49m\n\u001B[0;32m     10\u001B[0m \u001B[38;5;66;03m# Optionally, annotate each point with its Fly ID\u001B[39;00m\n\u001B[0;32m     11\u001B[0m \u001B[38;5;28;01mfor\u001B[39;00m i, label \u001B[38;5;129;01min\u001B[39;00m \u001B[38;5;28menumerate\u001B[39m(fly_labels):\n",
      "File \u001B[1;32mD:\\Users\\Ilya\\TimeSeriesDistance\\.venv\\Lib\\site-packages\\matplotlib\\_api\\deprecation.py:453\u001B[0m, in \u001B[0;36mmake_keyword_only.<locals>.wrapper\u001B[1;34m(*args, **kwargs)\u001B[0m\n\u001B[0;32m    447\u001B[0m \u001B[38;5;28;01mif\u001B[39;00m \u001B[38;5;28mlen\u001B[39m(args) \u001B[38;5;241m>\u001B[39m name_idx:\n\u001B[0;32m    448\u001B[0m     warn_deprecated(\n\u001B[0;32m    449\u001B[0m         since, message\u001B[38;5;241m=\u001B[39m\u001B[38;5;124m\"\u001B[39m\u001B[38;5;124mPassing the \u001B[39m\u001B[38;5;132;01m%(name)s\u001B[39;00m\u001B[38;5;124m \u001B[39m\u001B[38;5;132;01m%(obj_type)s\u001B[39;00m\u001B[38;5;124m \u001B[39m\u001B[38;5;124m\"\u001B[39m\n\u001B[0;32m    450\u001B[0m         \u001B[38;5;124m\"\u001B[39m\u001B[38;5;124mpositionally is deprecated since Matplotlib \u001B[39m\u001B[38;5;132;01m%(since)s\u001B[39;00m\u001B[38;5;124m; the \u001B[39m\u001B[38;5;124m\"\u001B[39m\n\u001B[0;32m    451\u001B[0m         \u001B[38;5;124m\"\u001B[39m\u001B[38;5;124mparameter will become keyword-only in \u001B[39m\u001B[38;5;132;01m%(removal)s\u001B[39;00m\u001B[38;5;124m.\u001B[39m\u001B[38;5;124m\"\u001B[39m,\n\u001B[0;32m    452\u001B[0m         name\u001B[38;5;241m=\u001B[39mname, obj_type\u001B[38;5;241m=\u001B[39m\u001B[38;5;124mf\u001B[39m\u001B[38;5;124m\"\u001B[39m\u001B[38;5;124mparameter of \u001B[39m\u001B[38;5;132;01m{\u001B[39;00mfunc\u001B[38;5;241m.\u001B[39m\u001B[38;5;18m__name__\u001B[39m\u001B[38;5;132;01m}\u001B[39;00m\u001B[38;5;124m()\u001B[39m\u001B[38;5;124m\"\u001B[39m)\n\u001B[1;32m--> 453\u001B[0m \u001B[38;5;28;01mreturn\u001B[39;00m \u001B[43mfunc\u001B[49m\u001B[43m(\u001B[49m\u001B[38;5;241;43m*\u001B[39;49m\u001B[43margs\u001B[49m\u001B[43m,\u001B[49m\u001B[43m \u001B[49m\u001B[38;5;241;43m*\u001B[39;49m\u001B[38;5;241;43m*\u001B[39;49m\u001B[43mkwargs\u001B[49m\u001B[43m)\u001B[49m\n",
      "File \u001B[1;32mD:\\Users\\Ilya\\TimeSeriesDistance\\.venv\\Lib\\site-packages\\matplotlib\\pyplot.py:3939\u001B[0m, in \u001B[0;36mscatter\u001B[1;34m(x, y, s, c, marker, cmap, norm, vmin, vmax, alpha, linewidths, edgecolors, colorizer, plotnonfinite, data, **kwargs)\u001B[0m\n\u001B[0;32m   3919\u001B[0m \u001B[38;5;129m@_copy_docstring_and_deprecators\u001B[39m(Axes\u001B[38;5;241m.\u001B[39mscatter)\n\u001B[0;32m   3920\u001B[0m \u001B[38;5;28;01mdef\u001B[39;00m\u001B[38;5;250m \u001B[39m\u001B[38;5;21mscatter\u001B[39m(\n\u001B[0;32m   3921\u001B[0m     x: \u001B[38;5;28mfloat\u001B[39m \u001B[38;5;241m|\u001B[39m ArrayLike,\n\u001B[1;32m   (...)\u001B[0m\n\u001B[0;32m   3937\u001B[0m     \u001B[38;5;241m*\u001B[39m\u001B[38;5;241m*\u001B[39mkwargs,\n\u001B[0;32m   3938\u001B[0m ) \u001B[38;5;241m-\u001B[39m\u001B[38;5;241m>\u001B[39m PathCollection:\n\u001B[1;32m-> 3939\u001B[0m     __ret \u001B[38;5;241m=\u001B[39m \u001B[43mgca\u001B[49m\u001B[43m(\u001B[49m\u001B[43m)\u001B[49m\u001B[38;5;241;43m.\u001B[39;49m\u001B[43mscatter\u001B[49m\u001B[43m(\u001B[49m\n\u001B[0;32m   3940\u001B[0m \u001B[43m        \u001B[49m\u001B[43mx\u001B[49m\u001B[43m,\u001B[49m\n\u001B[0;32m   3941\u001B[0m \u001B[43m        \u001B[49m\u001B[43my\u001B[49m\u001B[43m,\u001B[49m\n\u001B[0;32m   3942\u001B[0m \u001B[43m        \u001B[49m\u001B[43ms\u001B[49m\u001B[38;5;241;43m=\u001B[39;49m\u001B[43ms\u001B[49m\u001B[43m,\u001B[49m\n\u001B[0;32m   3943\u001B[0m \u001B[43m        \u001B[49m\u001B[43mc\u001B[49m\u001B[38;5;241;43m=\u001B[39;49m\u001B[43mc\u001B[49m\u001B[43m,\u001B[49m\n\u001B[0;32m   3944\u001B[0m \u001B[43m        \u001B[49m\u001B[43mmarker\u001B[49m\u001B[38;5;241;43m=\u001B[39;49m\u001B[43mmarker\u001B[49m\u001B[43m,\u001B[49m\n\u001B[0;32m   3945\u001B[0m \u001B[43m        \u001B[49m\u001B[43mcmap\u001B[49m\u001B[38;5;241;43m=\u001B[39;49m\u001B[43mcmap\u001B[49m\u001B[43m,\u001B[49m\n\u001B[0;32m   3946\u001B[0m \u001B[43m        \u001B[49m\u001B[43mnorm\u001B[49m\u001B[38;5;241;43m=\u001B[39;49m\u001B[43mnorm\u001B[49m\u001B[43m,\u001B[49m\n\u001B[0;32m   3947\u001B[0m \u001B[43m        \u001B[49m\u001B[43mvmin\u001B[49m\u001B[38;5;241;43m=\u001B[39;49m\u001B[43mvmin\u001B[49m\u001B[43m,\u001B[49m\n\u001B[0;32m   3948\u001B[0m \u001B[43m        \u001B[49m\u001B[43mvmax\u001B[49m\u001B[38;5;241;43m=\u001B[39;49m\u001B[43mvmax\u001B[49m\u001B[43m,\u001B[49m\n\u001B[0;32m   3949\u001B[0m \u001B[43m        \u001B[49m\u001B[43malpha\u001B[49m\u001B[38;5;241;43m=\u001B[39;49m\u001B[43malpha\u001B[49m\u001B[43m,\u001B[49m\n\u001B[0;32m   3950\u001B[0m \u001B[43m        \u001B[49m\u001B[43mlinewidths\u001B[49m\u001B[38;5;241;43m=\u001B[39;49m\u001B[43mlinewidths\u001B[49m\u001B[43m,\u001B[49m\n\u001B[0;32m   3951\u001B[0m \u001B[43m        \u001B[49m\u001B[43medgecolors\u001B[49m\u001B[38;5;241;43m=\u001B[39;49m\u001B[43medgecolors\u001B[49m\u001B[43m,\u001B[49m\n\u001B[0;32m   3952\u001B[0m \u001B[43m        \u001B[49m\u001B[43mcolorizer\u001B[49m\u001B[38;5;241;43m=\u001B[39;49m\u001B[43mcolorizer\u001B[49m\u001B[43m,\u001B[49m\n\u001B[0;32m   3953\u001B[0m \u001B[43m        \u001B[49m\u001B[43mplotnonfinite\u001B[49m\u001B[38;5;241;43m=\u001B[39;49m\u001B[43mplotnonfinite\u001B[49m\u001B[43m,\u001B[49m\n\u001B[0;32m   3954\u001B[0m \u001B[43m        \u001B[49m\u001B[38;5;241;43m*\u001B[39;49m\u001B[38;5;241;43m*\u001B[39;49m\u001B[43m(\u001B[49m\u001B[43m{\u001B[49m\u001B[38;5;124;43m\"\u001B[39;49m\u001B[38;5;124;43mdata\u001B[39;49m\u001B[38;5;124;43m\"\u001B[39;49m\u001B[43m:\u001B[49m\u001B[43m \u001B[49m\u001B[43mdata\u001B[49m\u001B[43m}\u001B[49m\u001B[43m \u001B[49m\u001B[38;5;28;43;01mif\u001B[39;49;00m\u001B[43m \u001B[49m\u001B[43mdata\u001B[49m\u001B[43m \u001B[49m\u001B[38;5;129;43;01mis\u001B[39;49;00m\u001B[43m \u001B[49m\u001B[38;5;129;43;01mnot\u001B[39;49;00m\u001B[43m \u001B[49m\u001B[38;5;28;43;01mNone\u001B[39;49;00m\u001B[43m \u001B[49m\u001B[38;5;28;43;01melse\u001B[39;49;00m\u001B[43m \u001B[49m\u001B[43m{\u001B[49m\u001B[43m}\u001B[49m\u001B[43m)\u001B[49m\u001B[43m,\u001B[49m\n\u001B[0;32m   3955\u001B[0m \u001B[43m        \u001B[49m\u001B[38;5;241;43m*\u001B[39;49m\u001B[38;5;241;43m*\u001B[39;49m\u001B[43mkwargs\u001B[49m\u001B[43m,\u001B[49m\n\u001B[0;32m   3956\u001B[0m \u001B[43m    \u001B[49m\u001B[43m)\u001B[49m\n\u001B[0;32m   3957\u001B[0m     sci(__ret)\n\u001B[0;32m   3958\u001B[0m     \u001B[38;5;28;01mreturn\u001B[39;00m __ret\n",
      "File \u001B[1;32mD:\\Users\\Ilya\\TimeSeriesDistance\\.venv\\Lib\\site-packages\\matplotlib\\_api\\deprecation.py:453\u001B[0m, in \u001B[0;36mmake_keyword_only.<locals>.wrapper\u001B[1;34m(*args, **kwargs)\u001B[0m\n\u001B[0;32m    447\u001B[0m \u001B[38;5;28;01mif\u001B[39;00m \u001B[38;5;28mlen\u001B[39m(args) \u001B[38;5;241m>\u001B[39m name_idx:\n\u001B[0;32m    448\u001B[0m     warn_deprecated(\n\u001B[0;32m    449\u001B[0m         since, message\u001B[38;5;241m=\u001B[39m\u001B[38;5;124m\"\u001B[39m\u001B[38;5;124mPassing the \u001B[39m\u001B[38;5;132;01m%(name)s\u001B[39;00m\u001B[38;5;124m \u001B[39m\u001B[38;5;132;01m%(obj_type)s\u001B[39;00m\u001B[38;5;124m \u001B[39m\u001B[38;5;124m\"\u001B[39m\n\u001B[0;32m    450\u001B[0m         \u001B[38;5;124m\"\u001B[39m\u001B[38;5;124mpositionally is deprecated since Matplotlib \u001B[39m\u001B[38;5;132;01m%(since)s\u001B[39;00m\u001B[38;5;124m; the \u001B[39m\u001B[38;5;124m\"\u001B[39m\n\u001B[0;32m    451\u001B[0m         \u001B[38;5;124m\"\u001B[39m\u001B[38;5;124mparameter will become keyword-only in \u001B[39m\u001B[38;5;132;01m%(removal)s\u001B[39;00m\u001B[38;5;124m.\u001B[39m\u001B[38;5;124m\"\u001B[39m,\n\u001B[0;32m    452\u001B[0m         name\u001B[38;5;241m=\u001B[39mname, obj_type\u001B[38;5;241m=\u001B[39m\u001B[38;5;124mf\u001B[39m\u001B[38;5;124m\"\u001B[39m\u001B[38;5;124mparameter of \u001B[39m\u001B[38;5;132;01m{\u001B[39;00mfunc\u001B[38;5;241m.\u001B[39m\u001B[38;5;18m__name__\u001B[39m\u001B[38;5;132;01m}\u001B[39;00m\u001B[38;5;124m()\u001B[39m\u001B[38;5;124m\"\u001B[39m)\n\u001B[1;32m--> 453\u001B[0m \u001B[38;5;28;01mreturn\u001B[39;00m \u001B[43mfunc\u001B[49m\u001B[43m(\u001B[49m\u001B[38;5;241;43m*\u001B[39;49m\u001B[43margs\u001B[49m\u001B[43m,\u001B[49m\u001B[43m \u001B[49m\u001B[38;5;241;43m*\u001B[39;49m\u001B[38;5;241;43m*\u001B[39;49m\u001B[43mkwargs\u001B[49m\u001B[43m)\u001B[49m\n",
      "File \u001B[1;32mD:\\Users\\Ilya\\TimeSeriesDistance\\.venv\\Lib\\site-packages\\matplotlib\\__init__.py:1521\u001B[0m, in \u001B[0;36m_preprocess_data.<locals>.inner\u001B[1;34m(ax, data, *args, **kwargs)\u001B[0m\n\u001B[0;32m   1518\u001B[0m \u001B[38;5;129m@functools\u001B[39m\u001B[38;5;241m.\u001B[39mwraps(func)\n\u001B[0;32m   1519\u001B[0m \u001B[38;5;28;01mdef\u001B[39;00m\u001B[38;5;250m \u001B[39m\u001B[38;5;21minner\u001B[39m(ax, \u001B[38;5;241m*\u001B[39margs, data\u001B[38;5;241m=\u001B[39m\u001B[38;5;28;01mNone\u001B[39;00m, \u001B[38;5;241m*\u001B[39m\u001B[38;5;241m*\u001B[39mkwargs):\n\u001B[0;32m   1520\u001B[0m     \u001B[38;5;28;01mif\u001B[39;00m data \u001B[38;5;129;01mis\u001B[39;00m \u001B[38;5;28;01mNone\u001B[39;00m:\n\u001B[1;32m-> 1521\u001B[0m         \u001B[38;5;28;01mreturn\u001B[39;00m \u001B[43mfunc\u001B[49m\u001B[43m(\u001B[49m\n\u001B[0;32m   1522\u001B[0m \u001B[43m            \u001B[49m\u001B[43max\u001B[49m\u001B[43m,\u001B[49m\n\u001B[0;32m   1523\u001B[0m \u001B[43m            \u001B[49m\u001B[38;5;241;43m*\u001B[39;49m\u001B[38;5;28;43mmap\u001B[39;49m\u001B[43m(\u001B[49m\u001B[43mcbook\u001B[49m\u001B[38;5;241;43m.\u001B[39;49m\u001B[43msanitize_sequence\u001B[49m\u001B[43m,\u001B[49m\u001B[43m \u001B[49m\u001B[43margs\u001B[49m\u001B[43m)\u001B[49m\u001B[43m,\u001B[49m\n\u001B[0;32m   1524\u001B[0m \u001B[43m            \u001B[49m\u001B[38;5;241;43m*\u001B[39;49m\u001B[38;5;241;43m*\u001B[39;49m\u001B[43m{\u001B[49m\u001B[43mk\u001B[49m\u001B[43m:\u001B[49m\u001B[43m \u001B[49m\u001B[43mcbook\u001B[49m\u001B[38;5;241;43m.\u001B[39;49m\u001B[43msanitize_sequence\u001B[49m\u001B[43m(\u001B[49m\u001B[43mv\u001B[49m\u001B[43m)\u001B[49m\u001B[43m \u001B[49m\u001B[38;5;28;43;01mfor\u001B[39;49;00m\u001B[43m \u001B[49m\u001B[43mk\u001B[49m\u001B[43m,\u001B[49m\u001B[43m \u001B[49m\u001B[43mv\u001B[49m\u001B[43m \u001B[49m\u001B[38;5;129;43;01min\u001B[39;49;00m\u001B[43m \u001B[49m\u001B[43mkwargs\u001B[49m\u001B[38;5;241;43m.\u001B[39;49m\u001B[43mitems\u001B[49m\u001B[43m(\u001B[49m\u001B[43m)\u001B[49m\u001B[43m}\u001B[49m\u001B[43m)\u001B[49m\n\u001B[0;32m   1526\u001B[0m     bound \u001B[38;5;241m=\u001B[39m new_sig\u001B[38;5;241m.\u001B[39mbind(ax, \u001B[38;5;241m*\u001B[39margs, \u001B[38;5;241m*\u001B[39m\u001B[38;5;241m*\u001B[39mkwargs)\n\u001B[0;32m   1527\u001B[0m     auto_label \u001B[38;5;241m=\u001B[39m (bound\u001B[38;5;241m.\u001B[39marguments\u001B[38;5;241m.\u001B[39mget(label_namer)\n\u001B[0;32m   1528\u001B[0m                   \u001B[38;5;129;01mor\u001B[39;00m bound\u001B[38;5;241m.\u001B[39mkwargs\u001B[38;5;241m.\u001B[39mget(label_namer))\n",
      "File \u001B[1;32mD:\\Users\\Ilya\\TimeSeriesDistance\\.venv\\Lib\\site-packages\\matplotlib\\axes\\_axes.py:4918\u001B[0m, in \u001B[0;36mAxes.scatter\u001B[1;34m(self, x, y, s, c, marker, cmap, norm, vmin, vmax, alpha, linewidths, edgecolors, colorizer, plotnonfinite, **kwargs)\u001B[0m\n\u001B[0;32m   4915\u001B[0m \u001B[38;5;28;01mif\u001B[39;00m edgecolors \u001B[38;5;129;01mis\u001B[39;00m \u001B[38;5;28;01mNone\u001B[39;00m:\n\u001B[0;32m   4916\u001B[0m     orig_edgecolor \u001B[38;5;241m=\u001B[39m kwargs\u001B[38;5;241m.\u001B[39mget(\u001B[38;5;124m'\u001B[39m\u001B[38;5;124medgecolor\u001B[39m\u001B[38;5;124m'\u001B[39m, \u001B[38;5;28;01mNone\u001B[39;00m)\n\u001B[0;32m   4917\u001B[0m c, colors, edgecolors \u001B[38;5;241m=\u001B[39m \\\n\u001B[1;32m-> 4918\u001B[0m     \u001B[38;5;28;43mself\u001B[39;49m\u001B[38;5;241;43m.\u001B[39;49m\u001B[43m_parse_scatter_color_args\u001B[49m\u001B[43m(\u001B[49m\n\u001B[0;32m   4919\u001B[0m \u001B[43m        \u001B[49m\u001B[43mc\u001B[49m\u001B[43m,\u001B[49m\u001B[43m \u001B[49m\u001B[43medgecolors\u001B[49m\u001B[43m,\u001B[49m\u001B[43m \u001B[49m\u001B[43mkwargs\u001B[49m\u001B[43m,\u001B[49m\u001B[43m \u001B[49m\u001B[43mx\u001B[49m\u001B[38;5;241;43m.\u001B[39;49m\u001B[43msize\u001B[49m\u001B[43m,\u001B[49m\n\u001B[0;32m   4920\u001B[0m \u001B[43m        \u001B[49m\u001B[43mget_next_color_func\u001B[49m\u001B[38;5;241;43m=\u001B[39;49m\u001B[38;5;28;43mself\u001B[39;49m\u001B[38;5;241;43m.\u001B[39;49m\u001B[43m_get_patches_for_fill\u001B[49m\u001B[38;5;241;43m.\u001B[39;49m\u001B[43mget_next_color\u001B[49m\u001B[43m)\u001B[49m\n\u001B[0;32m   4922\u001B[0m \u001B[38;5;28;01mif\u001B[39;00m plotnonfinite \u001B[38;5;129;01mand\u001B[39;00m colors \u001B[38;5;129;01mis\u001B[39;00m \u001B[38;5;28;01mNone\u001B[39;00m:\n\u001B[0;32m   4923\u001B[0m     c \u001B[38;5;241m=\u001B[39m np\u001B[38;5;241m.\u001B[39mma\u001B[38;5;241m.\u001B[39mmasked_invalid(c)\n",
      "File \u001B[1;32mD:\\Users\\Ilya\\TimeSeriesDistance\\.venv\\Lib\\site-packages\\matplotlib\\axes\\_axes.py:4741\u001B[0m, in \u001B[0;36mAxes._parse_scatter_color_args\u001B[1;34m(c, edgecolors, kwargs, xsize, get_next_color_func)\u001B[0m\n\u001B[0;32m   4737\u001B[0m     \u001B[38;5;28;01melse\u001B[39;00m:\n\u001B[0;32m   4738\u001B[0m         \u001B[38;5;28;01mif\u001B[39;00m \u001B[38;5;28mlen\u001B[39m(colors) \u001B[38;5;129;01mnot\u001B[39;00m \u001B[38;5;129;01min\u001B[39;00m (\u001B[38;5;241m0\u001B[39m, \u001B[38;5;241m1\u001B[39m, xsize):\n\u001B[0;32m   4739\u001B[0m             \u001B[38;5;66;03m# NB: remember that a single color is also acceptable.\u001B[39;00m\n\u001B[0;32m   4740\u001B[0m             \u001B[38;5;66;03m# Besides *colors* will be an empty array if c == 'none'.\u001B[39;00m\n\u001B[1;32m-> 4741\u001B[0m             \u001B[38;5;28;01mraise\u001B[39;00m invalid_shape_exception(\u001B[38;5;28mlen\u001B[39m(colors), xsize)\n\u001B[0;32m   4742\u001B[0m \u001B[38;5;28;01melse\u001B[39;00m:\n\u001B[0;32m   4743\u001B[0m     colors \u001B[38;5;241m=\u001B[39m \u001B[38;5;28;01mNone\u001B[39;00m  \u001B[38;5;66;03m# use cmap, norm after collection is created\u001B[39;00m\n",
      "\u001B[1;31mValueError\u001B[0m: 'c' argument has 16 elements, which is inconsistent with 'x' and 'y' with size 160."
     ]
    },
    {
     "data": {
      "text/plain": [
       "<Figure size 1000x800 with 1 Axes>"
      ],
      "image/png": "[encoded data removed]"
     },
     "metadata": {},
     "output_type": "display_data"
    }
   ],
   "execution_count": 7
  },
  {
   "metadata": {
    "ExecuteTime": {
     "end_time": "2025-01-28T23:12:09.614413Z",
     "start_time": "2025-01-28T23:12:08.775221Z"
    }
   },
   "cell_type": "code",
   "source": [
    "# ----------------------------------------------------\n",
    "# 3) K-Means Clustering on MDS Coordinates\n",
    "# ----------------------------------------------------\n",
    "\n",
    "# Determine the optimal number of clusters using the Elbow Method (Optional)\n",
    "# Here, we'll proceed with k=2 since there are two conditions\n",
    "k = 2\n",
    "kmeans = KMeans(n_clusters=k, random_state=42)\n",
    "cluster_labels = kmeans.fit_predict(coords)\n",
    "\n",
    "plt.figure(figsize=(10, 8))\n",
    "scatter = plt.scatter(coords[:, 0], coords[:, 1], c=cluster_labels, cmap='Set1', s=100, alpha=0.7)\n",
    "\n",
    "\n",
    "plt.title(f\"K-Means Clusters on MDS Projection (k={k}) - Approach 1\")\n",
    "plt.xlabel(\"MDS Dimension 1\")\n",
    "plt.ylabel(\"MDS Dimension 2\")\n",
    "plt.grid(True)\n",
    "\n",
    "# Create legend for clusters\n",
    "cluster_patches = [mpatches.Patch(color=cmap(i), label=f\"Cluster {i+1}\") for i in range(k)]\n",
    "plt.legend(handles=cluster_patches, title=\"K-Means Clusters\", bbox_to_anchor=(1.05, 1), loc='upper left')\n",
    "\n",
    "plt.tight_layout()\n",
    "plt.show()\n"
   ],
   "id": "bd0970024519abe8",
   "outputs": [
    {
     "name": "stderr",
     "output_type": "stream",
     "text": [
      "D:\\Users\\Ilya\\TimeSeriesDistance\\.venv\\Lib\\site-packages\\joblib\\externals\\loky\\backend\\context.py:136: UserWarning: Could not find the number of physical cores for the following reason:\n",
      "found 0 physical cores < 1\n",
      "Returning the number of logical cores instead. You can silence this warning by setting LOKY_MAX_CPU_COUNT to the number of cores you want to use.\n",
      "  warnings.warn(\n",
      "  File \"D:\\Users\\Ilya\\TimeSeriesDistance\\.venv\\Lib\\site-packages\\joblib\\externals\\loky\\backend\\context.py\", line 282, in _count_physical_cores\n",
      "    raise ValueError(f\"found {cpu_count_physical} physical cores < 1\")\n"
     ]
    },
    {
     "data": {
      "text/plain": [
       "<Figure size 1000x800 with 1 Axes>"
      ],
      "image/png": "[encoded data removed]"
     },
     "metadata": {},
     "output_type": "display_data"
    }
   ],
   "execution_count": 8
  },
  {
   "metadata": {
    "ExecuteTime": {
     "end_time": "2025-01-28T23:16:58.760591Z",
     "start_time": "2025-01-28T23:16:58.754117Z"
    }
   },
   "cell_type": "code",
   "source": "print(dist_mat[1][21])",
   "id": "94336260c6766f16",
   "outputs": [
    {
     "name": "stdout",
     "output_type": "stream",
     "text": [
      "96222.0\n"
     ]
    }
   ],
   "execution_count": 17
  }
 ],
 "metadata": {
  "kernelspec": {
   "display_name": "Python 3 (ipykernel)",
   "language": "python",
   "name": "python3"
  },
  "language_info": {
   "codemirror_mode": {
    "name": "ipython",
    "version": 3
   },
   "file_extension": ".py",
   "mimetype": "text/x-python",
   "name": "python",
   "nbconvert_exporter": "python",
   "pygments_lexer": "ipython3",
   "version": "3.11.5"
  }
 },
 "nbformat": 4,
 "nbformat_minor": 5
}
