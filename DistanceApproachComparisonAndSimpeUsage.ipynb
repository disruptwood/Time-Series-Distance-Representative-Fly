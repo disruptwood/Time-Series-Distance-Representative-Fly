{
 "cells": [
  {
   "metadata": {},
   "cell_type": "markdown",
   "source": "# REAL DISTANCE APPROACH COMPARISON",
   "id": "ec0bf13840b1174d"
  },
  {
   "metadata": {
    "ExecuteTime": {
     "end_time": "2025-02-02T20:00:15.920091Z",
     "start_time": "2025-02-02T20:00:15.896938Z"
    }
   },
   "cell_type": "code",
   "source": [
    "# IMPORTS...\n",
    "import pandas as pd\n",
    "import random\n",
    "from sklearn.manifold import MDS\n",
    "from sklearn.cluster import KMeans\n",
    "import itertools\n",
    "import matplotlib.pyplot as plt\n",
    "import numpy as np\n",
    "from matplotlib.lines import Line2D\n",
    "# Data loading\n",
    "from data_loading.gather_mat_files_multiple import gather_mat_files_multiple_condition\n",
    "from data_loading.load_intervals import load_intervals_data\n",
    "from data_loading.load_scores import load_scores_data\n",
    "from data_loading.load_postprocessed import load_postprocessed_data\n",
    "\n",
    "# Distance calculation\n",
    "from distance_calculation.compute_distance_matrix import compute_distance_matrix\n",
    "from distance_calculation.pick_n_representative import pick_n_representatives_simple\n",
    "from distance_calculation.approach1_multi_hot import approach1_multi_hot_distance\n",
    "from distance_calculation.approach5_simple_euclidean import approach5_simple_euclidean_distance\n",
    "from distance_calculation.approach2_intervals import approach2_interval_distance\n",
    "from distance_calculation.approach3_markov import approach3_markov_distance\n",
    "from distance_calculation.approach4_scores import approach4_scores_distance\n",
    "from distance_calculation.approach3_markov_pretrain import train_and_save_hmms_for_all_flies\n",
    "from distance_calculation.approach3_markov_pretrain import build_distance_matrix_from_models"
   ],
   "id": "ae79b1c0e13252bf",
   "outputs": [],
   "execution_count": 46
  },
  {
   "metadata": {
    "ExecuteTime": {
     "end_time": "2025-02-02T17:27:58.205313Z",
     "start_time": "2025-02-02T17:27:58.194176Z"
    }
   },
   "cell_type": "code",
   "source": [
    "# Optimized data loading for real analysing. Bigger data sample.\n",
    "base_folders = [\n",
    "    r\"D:\\Ilya\\Data\\Females_Grouped\",  # Contains 5 experiment datasets for Females Group (Grouped)\n",
    "    r\"D:\\Ilya\\Data\\Females_Singles\",  # Contains 5 experiment datasets for Females Singles (to be merged)\n",
    "    r\"D:\\Ilya\\Data\\Males_Singles\",  # Contains 5 experiment datasets for Males Singles\n",
    "    r\"D:\\Ilya\\Data\\Males_Grouped\"  # Contains 5 experiment datasets for Males Group\n",
    "]\n",
    "\n",
    "all_condition_files, condition_names = gather_mat_files_multiple_condition(base_folders)\n",
    "print(\"Condition Names:\")\n",
    "print(condition_names)"
   ],
   "id": "396a581e66dd9c88",
   "outputs": [
    {
     "name": "stdout",
     "output_type": "stream",
     "text": [
      "Condition Names:\n",
      "['Assa_Females_Grouped_Unknown_RigA_20220715T105702', 'Assa_Females_Grouped_Unknown_RigA_20220715T110325', 'Assa_Females_Grouped_Unknown_RigA_20220715T112156', 'Assa_Females_Grouped_Unknown_RigA_20220715T113506', 'Assa_Females_Grouped_Unknown_RigA_20220715T114244', 'Assa_Females_Singles_Unknown_RigA_20220714T105530', 'Assa_Females_Singles_Unknown_RigA_20220714T110522', 'Assa_Females_Singles_Unknown_RigA_20220714T111552', 'Assa_Females_Singles_Unknown_RigA_20220714T112714', 'Assa_Females_Singles_Unknown_RigA_20220714T113619', 'Assa_Males_Single_Unknown_RigA_20220714T105158', 'Assa_Males_Single_Unknown_RigA_20220714T110015', 'Assa_Males_Single_Unknown_RigA_20220714T110950', 'Assa_Males_Single_Unknown_RigA_20220714T112223', 'Assa_Males_Single_Unknown_RigA_20220714T113224', 'Assa_Males_Grouped_Unknown_RigA_20220207T080935', 'Assa_Males_Grouped_Unknown_RigA_20220207T082632', 'Assa_Males_Grouped_Unknown_RigA_20220207T083144', 'Assa_Males_Grouped_Unknown_RigA_20220207T084623', 'Assa_Males_Grouped_Unknown_RigA_20220207T085424']\n"
     ]
    }
   ],
   "execution_count": 2
  },
  {
   "metadata": {
    "ExecuteTime": {
     "end_time": "2025-02-02T17:28:11.671104Z",
     "start_time": "2025-02-02T17:28:01.374196Z"
    }
   },
   "cell_type": "code",
   "source": [
    "# Load data\n",
    "all_flies_post, post_index_map, post_cond_names = load_postprocessed_data(\n",
    "    all_condition_files, single=False, condition_names=condition_names\n",
    ")\n",
    "all_flies_scores, scores_index_map, scores_cond_names = load_scores_data(\n",
    "    all_condition_files, single=False, condition_names=condition_names\n",
    ")\n",
    "all_flies_intervals, intervals_index_map, intervals_cond_names = load_intervals_data(\n",
    "    all_condition_files, single=False, condition_names=condition_names\n",
    ")"
   ],
   "id": "1fd7f862d77b6063",
   "outputs": [],
   "execution_count": 3
  },
  {
   "metadata": {
    "ExecuteTime": {
     "end_time": "2025-02-02T11:53:59.842777Z",
     "start_time": "2025-02-02T11:53:59.836276Z"
    }
   },
   "cell_type": "code",
   "source": "print(post_index_map)",
   "id": "f6e9a6a1c3147ee3",
   "outputs": [
    {
     "name": "stdout",
     "output_type": "stream",
     "text": [
      "{0: (0, 0), 1: (0, 1), 2: (0, 2), 3: (0, 3), 4: (0, 4), 5: (0, 5), 6: (0, 6), 7: (0, 7), 8: (0, 8), 9: (0, 9), 10: (1, 0), 11: (1, 1), 12: (1, 2), 13: (1, 3), 14: (1, 4), 15: (1, 5), 16: (1, 6), 17: (1, 7), 18: (1, 8), 19: (1, 9), 20: (2, 0), 21: (2, 1), 22: (2, 2), 23: (2, 3), 24: (2, 4), 25: (2, 5), 26: (2, 6), 27: (2, 7), 28: (2, 8), 29: (2, 9), 30: (3, 0), 31: (3, 1), 32: (3, 2), 33: (3, 3), 34: (3, 4), 35: (3, 5), 36: (3, 6), 37: (3, 7), 38: (3, 8), 39: (3, 9), 40: (4, 0), 41: (4, 1), 42: (4, 2), 43: (4, 3), 44: (4, 4), 45: (4, 5), 46: (4, 6), 47: (4, 7), 48: (4, 8), 49: (4, 9), 50: (5, 0), 51: (5, 1), 52: (5, 2), 53: (5, 3), 54: (5, 4), 55: (5, 5), 56: (5, 6), 57: (5, 7), 58: (5, 8), 59: (5, 9), 60: (6, 0), 61: (6, 1), 62: (6, 2), 63: (6, 3), 64: (6, 4), 65: (6, 5), 66: (6, 6), 67: (6, 7), 68: (6, 8), 69: (6, 9), 70: (7, 0), 71: (7, 1), 72: (7, 2), 73: (7, 3), 74: (7, 4), 75: (7, 5), 76: (7, 6), 77: (7, 7), 78: (7, 8), 79: (7, 9), 80: (8, 0), 81: (8, 1), 82: (8, 2), 83: (8, 3), 84: (8, 4), 85: (8, 5), 86: (8, 6), 87: (8, 7), 88: (8, 8), 89: (8, 9), 90: (9, 0), 91: (9, 1), 92: (9, 2), 93: (9, 3), 94: (9, 4), 95: (9, 5), 96: (9, 6), 97: (9, 7), 98: (9, 8), 99: (9, 9), 100: (10, 0), 101: (10, 1), 102: (10, 2), 103: (10, 3), 104: (10, 4), 105: (10, 5), 106: (10, 6), 107: (10, 7), 108: (10, 8), 109: (10, 9), 110: (11, 0), 111: (11, 1), 112: (11, 2), 113: (11, 3), 114: (11, 4), 115: (11, 5), 116: (11, 6), 117: (11, 7), 118: (11, 8), 119: (11, 9), 120: (12, 0), 121: (12, 1), 122: (12, 2), 123: (12, 3), 124: (12, 4), 125: (12, 5), 126: (12, 6), 127: (12, 7), 128: (12, 8), 129: (12, 9), 130: (13, 0), 131: (13, 1), 132: (13, 2), 133: (13, 3), 134: (13, 4), 135: (13, 5), 136: (13, 6), 137: (13, 7), 138: (13, 8), 139: (13, 9), 140: (14, 0), 141: (14, 1), 142: (14, 2), 143: (14, 3), 144: (14, 4), 145: (14, 5), 146: (14, 6), 147: (14, 7), 148: (14, 8), 149: (14, 9), 150: (15, 0), 151: (15, 1), 152: (15, 2), 153: (15, 3), 154: (15, 4), 155: (15, 5), 156: (15, 6), 157: (15, 7), 158: (15, 8), 159: (15, 9), 160: (16, 0), 161: (16, 1), 162: (16, 2), 163: (16, 3), 164: (16, 4), 165: (16, 5), 166: (16, 6), 167: (16, 7), 168: (16, 8), 169: (16, 9), 170: (17, 0), 171: (17, 1), 172: (17, 2), 173: (17, 3), 174: (17, 4), 175: (17, 5), 176: (17, 6), 177: (17, 7), 178: (17, 8), 179: (17, 9), 180: (18, 0), 181: (18, 1), 182: (18, 2), 183: (18, 3), 184: (18, 4), 185: (18, 5), 186: (18, 6), 187: (18, 7), 188: (18, 8), 189: (18, 9), 190: (19, 0), 191: (19, 1), 192: (19, 2), 193: (19, 3), 194: (19, 4), 195: (19, 5), 196: (19, 6), 197: (19, 7), 198: (19, 8), 199: (19, 9)}\n"
     ]
    }
   ],
   "execution_count": 14
  },
  {
   "metadata": {
    "ExecuteTime": {
     "end_time": "2025-02-02T17:28:11.681168Z",
     "start_time": "2025-02-02T17:28:11.675119Z"
    }
   },
   "cell_type": "code",
   "source": [
    "# Prepare data\n",
    "behavior_names_per_condition = []\n",
    "import os\n",
    "\n",
    "for cond_files in all_condition_files:\n",
    "    names_for_this_cond = []\n",
    "    for filepath in cond_files:\n",
    "        base = os.path.basename(filepath)  # e.g. \"scores_Grooming.mat\"\n",
    "        no_ext = os.path.splitext(base)[0]  # e.g. \"scores_Grooming\"\n",
    "        parts = no_ext.split(\"_\", 1)  # split on first underscore\n",
    "        if len(parts) == 2:\n",
    "            behavior_name = parts[1]  # e.g. \"Grooming\"\n",
    "        else:\n",
    "            behavior_name = no_ext\n",
    "        names_for_this_cond.append(behavior_name)\n",
    "    behavior_names_per_condition.append(names_for_this_cond)\n",
    "\n",
    "export_data = {\n",
    "    \"postprocessed_data\": all_flies_post,  # list of lists: each condition has a list of fly arrays\n",
    "    \"index_map\": post_index_map,\n",
    "    \"condition_names\": post_cond_names,\n",
    "    \"behavior_names_per_condition\": behavior_names_per_condition\n",
    "}"
   ],
   "id": "d92ca7803964f489",
   "outputs": [],
   "execution_count": 4
  },
  {
   "metadata": {
    "ExecuteTime": {
     "end_time": "2025-02-02T17:28:14.228118Z",
     "start_time": "2025-02-02T17:28:14.202695Z"
    }
   },
   "cell_type": "code",
   "source": [
    "\n",
    "# Create empty lists for each merged group and new index mappings\n",
    "fg_data = []  # Females_Grouped (conditions 0–4)\n",
    "fs_data = []  # Females_Singles (conditions 5–9)\n",
    "ms_data = []  # Males_Single (conditions 10–14)\n",
    "mg_data = []  # Males_Grouped (conditions 15–19)\n",
    "\n",
    "new_fg_index_map = {}  # new mapping: new index -> (group_id, local index)\n",
    "new_fs_index_map = {}\n",
    "new_ms_index_map = {}\n",
    "new_mg_index_map = {}\n",
    "\n",
    "# Iterate over each fly using the original index mapping.\n",
    "# post_index_map: {global_idx: (cond_idx, local_fly_idx)}\n",
    "for global_idx, (cond_idx, local_idx) in post_index_map.items():\n",
    "    if cond_idx in {0, 1, 2, 3, 4}:\n",
    "        new_local = len(fg_data)\n",
    "        fg_data.append(all_flies_post[global_idx])\n",
    "        new_fg_index_map[new_local] = (0, new_local)  # group 0: Females_Grouped\n",
    "    elif cond_idx in {5, 6, 7, 8, 9}:\n",
    "        new_local = len(fs_data)\n",
    "        fs_data.append(all_flies_post[global_idx])\n",
    "        new_fs_index_map[new_local] = (1, new_local)  # group 1: Females_Singles\n",
    "    elif cond_idx in {10, 11, 12, 13, 14}:\n",
    "        new_local = len(ms_data)\n",
    "        ms_data.append(all_flies_post[global_idx])\n",
    "        new_ms_index_map[new_local] = (2, new_local)  # group 2: Males_Single\n",
    "    elif cond_idx in {15, 16, 17, 18, 19}:\n",
    "        new_local = len(mg_data)\n",
    "        mg_data.append(all_flies_post[global_idx])\n",
    "        new_mg_index_map[new_local] = (3, new_local)  # group 3: Males_Grouped\n",
    "\n",
    "# Confirm that each group has exactly 50 flies\n",
    "print(\"Number of flies per group:\")\n",
    "print(\"Females_Grouped:\", len(fg_data))\n",
    "print(\"Females_Singles:\", len(fs_data))\n",
    "print(\"Males_Single:\", len(ms_data))\n",
    "print(\"Males_Grouped:\", len(mg_data))\n",
    "\n",
    "# We assume that for each group, all flies have identical behavior column names.\n",
    "# For example, for Females_Grouped, pick the behavior names from the first file that contributed to group 0.\n",
    "# The original behavior_names_per_condition is a list (length = number of original conditions, e.g., 20).\n",
    "# Use:\n",
    "#   group 0 (Females_Grouped): use behavior_names_per_condition[0]\n",
    "#   group 1 (Females_Singles):   use behavior_names_per_condition[5]\n",
    "#   group 2 (Males_Single):      use behavior_names_per_condition[10]\n",
    "#   group 3 (Males_Grouped):     use behavior_names_per_condition[15]\n",
    "\n",
    "behavior_names_fg = behavior_names_per_condition[0]  # from first Females_Grouped file\n",
    "behavior_names_fs = behavior_names_per_condition[5]  # from first Females_Singles file\n",
    "behavior_names_ms = behavior_names_per_condition[10]  # from first Males_Single file\n",
    "behavior_names_mg = behavior_names_per_condition[15]  # from first Males_Grouped file\n",
    "\n",
    "dfs_females_grouped = [\n",
    "    pd.DataFrame(fly_data, columns=behavior_names_fg) for fly_data in fg_data\n",
    "]\n",
    "dfs_females_singles = [\n",
    "    pd.DataFrame(fly_data, columns=behavior_names_fs) for fly_data in fs_data\n",
    "]\n",
    "dfs_males_single = [\n",
    "    pd.DataFrame(fly_data, columns=behavior_names_ms) for fly_data in ms_data\n",
    "]\n",
    "dfs_males_grouped = [\n",
    "    pd.DataFrame(fly_data, columns=behavior_names_mg) for fly_data in mg_data\n",
    "]\n",
    "\n",
    "all_exps_arrays = [\n",
    "    [df.to_numpy() for df in dfs_females_grouped],\n",
    "    [df.to_numpy() for df in dfs_females_singles],\n",
    "    [df.to_numpy() for df in dfs_males_single],\n",
    "    [df.to_numpy() for df in dfs_males_grouped]\n",
    "]\n",
    "\n",
    "print(\"Data conversion complete. Number of flies in each group:\")\n",
    "print(\"Females_Grouped:\", len(all_exps_arrays[0]))\n",
    "print(\"Females_Singles:\", len(all_exps_arrays[1]))\n",
    "print(\"Males_Single:\", len(all_exps_arrays[2]))\n",
    "print(\"Males_Grouped:\", len(all_exps_arrays[3]))\n",
    "\n",
    "# update the export_data dictionary with the merged groups and new index maps:\n",
    "export_data_merged = {\n",
    "    \"postprocessed_data\": [fg_data, fs_data, ms_data, mg_data],\n",
    "    \"index_map\": [new_fg_index_map, new_fs_index_map, new_ms_index_map, new_mg_index_map],\n",
    "    \"group_names\": [\"Females_Grouped\", \"Females_Singles\", \"Males_Single\", \"Males_Grouped\"],\n",
    "    \"behavior_names_per_group\": [behavior_names_fg, behavior_names_fs, behavior_names_ms, behavior_names_mg]\n",
    "}"
   ],
   "id": "8d2c14acf9ede01a",
   "outputs": [
    {
     "name": "stdout",
     "output_type": "stream",
     "text": [
      "Number of flies per group:\n",
      "Females_Grouped: 50\n",
      "Females_Singles: 50\n",
      "Males_Single: 50\n",
      "Males_Grouped: 50\n",
      "Data conversion complete. Number of flies in each group:\n",
      "Females_Grouped: 50\n",
      "Females_Singles: 50\n",
      "Males_Single: 50\n",
      "Males_Grouped: 50\n"
     ]
    }
   ],
   "execution_count": 5
  },
  {
   "metadata": {},
   "cell_type": "markdown",
   "source": "# Compute Intra/Inter Distance Ratios for Two Selected Groups",
   "id": "dcd4f56b025fd114"
  },
  {
   "metadata": {
    "ExecuteTime": {
     "end_time": "2025-02-02T17:28:25.155309Z",
     "start_time": "2025-02-02T17:28:25.140734Z"
    }
   },
   "cell_type": "code",
   "source": [
    "# Lets create better algorith for comparision of approaches, dont compare inter flies from one experimen for accuracy.\n",
    "# Dont compare same flies again.\n",
    "# Normalization helper same like in demo.\n",
    "def normalize_distances(dist_list):\n",
    "    arr = np.array(dist_list)\n",
    "    if len(arr) == 0:\n",
    "        return arr\n",
    "    mn, mx = arr.min(), arr.max()\n",
    "    if mx == mn:\n",
    "        return arr\n",
    "    return (arr - mn) / (mx - mn)\n",
    "\n",
    "def compute_intra_inter_distances(all_exps, distance_func,\n",
    "                                  n_pairs_intra=50, n_pairs_inter=50,\n",
    "                                  trim_arrays=True):\n",
    "    \"\"\"\n",
    "    Compute the normalized mean distances within groups (intra) and between groups (inter)\n",
    "    and return their ratio.\n",
    "\n",
    "    all_exps: list of experiments; each experiment is a list of fly data arrays.\n",
    "    distance_func: function to compute distance between two fly data arrays.\n",
    "    n_pairs_intra: max number of intra-group comparisons per experiment.\n",
    "    n_pairs_inter: max number of inter-group comparisons overall.\n",
    "    trim_arrays: whether to trim data arrays to the same length before comparison.\n",
    "    \"\"\"\n",
    "    intra_dists = []  # distances from flies within the same experiment (group)\n",
    "    inter_dists = []  # distances from flies between different experiments (groups)\n",
    "\n",
    "    def trim_to_min_length(arr1, arr2):\n",
    "        min_length = min(arr1.shape[0], arr2.shape[0])\n",
    "        return arr1[:min_length], arr2[:min_length]\n",
    "\n",
    "    # --- Intra-group comparisons ---\n",
    "    for flies in all_exps:\n",
    "        # Skip if fewer than 2 flies are present.\n",
    "        if len(flies) < 2:\n",
    "            continue\n",
    "\n",
    "        # If there are more than 10 flies, partition into blocks of 10 so that comparisons\n",
    "        # are only done between flies in different blocks.\n",
    "        if len(flies) > 10:\n",
    "            blocks = [flies[i:i+10] for i in range(0, len(flies), 10)]\n",
    "            valid_pairs = []\n",
    "            # Loop over all unique pairs of blocks.\n",
    "            for b1 in range(len(blocks)):\n",
    "                for b2 in range(b1 + 1, len(blocks)):\n",
    "                    # Pair each fly from block b1 with each fly from block b2.\n",
    "                    for flyA in blocks[b1]:\n",
    "                        for flyB in blocks[b2]:\n",
    "                            valid_pairs.append((flyA, flyB))\n",
    "        else:\n",
    "            # For groups with 10 or fewer flies, use all unique pairs.\n",
    "            valid_pairs = list(itertools.combinations(flies, 2))\n",
    "\n",
    "        # Shuffle pairs to randomize selection and take up to n_pairs_intra pairs.\n",
    "        random.shuffle(valid_pairs)\n",
    "        sampled_pairs = valid_pairs[:n_pairs_intra] if len(valid_pairs) > n_pairs_intra else valid_pairs\n",
    "\n",
    "        # Compute distance for each selected pair.\n",
    "        for flyA, flyB in sampled_pairs:\n",
    "            if trim_arrays:\n",
    "                flyA, flyB = trim_to_min_length(flyA, flyB)\n",
    "            intra_dists.append(distance_func(flyA, flyB))\n",
    "\n",
    "    # --- Inter-group comparisons ---\n",
    "    # Generate all valid pairs from flies belonging to different experiments.\n",
    "    valid_inter_pairs = []\n",
    "    num_exps = len(all_exps)\n",
    "    for i in range(num_exps):\n",
    "        for j in range(i + 1, num_exps):\n",
    "            exp_i = all_exps[i]\n",
    "            exp_j = all_exps[j]\n",
    "            # Skip if either experiment is empty.\n",
    "            if not exp_i or not exp_j:\n",
    "                continue\n",
    "            # Pair each fly in one experiment with each fly in the other.\n",
    "            for flyA in exp_i:\n",
    "                for flyB in exp_j:\n",
    "                    valid_inter_pairs.append((flyA, flyB))\n",
    "\n",
    "    # Randomize and sample without repeats.\n",
    "    random.shuffle(valid_inter_pairs)\n",
    "    sampled_inter_pairs = (valid_inter_pairs[:n_pairs_inter]\n",
    "                           if len(valid_inter_pairs) > n_pairs_inter\n",
    "                           else valid_inter_pairs)\n",
    "\n",
    "    for flyA, flyB in sampled_inter_pairs:\n",
    "        if trim_arrays:\n",
    "            flyA, flyB = trim_to_min_length(flyA, flyB)\n",
    "        inter_dists.append(distance_func(flyA, flyB))\n",
    "\n",
    "    # Normalize distances and compute mean values.\n",
    "    intra_mean = normalize_distances(intra_dists).mean() if intra_dists else np.nan\n",
    "    inter_mean = normalize_distances(inter_dists).mean() if inter_dists else np.nan\n",
    "    ratio = intra_mean / inter_mean if (inter_mean and inter_mean != 0) else np.inf\n",
    "\n",
    "    return intra_mean, inter_mean, ratio\n",
    "\n",
    "\"\"\"\n",
    "Algorithm Logic:\n",
    "\n",
    "1. For each experimental group (list of flies):\n",
    "   - If there are more than 10 flies, split the group into blocks of 10.\n",
    "     This ensures that comparisons are only made between flies from different blocks.\n",
    "     For example, the first 10 flies (block 1) will be compared with the remaining flies (blocks 2+),\n",
    "     and so on.\n",
    "   - If the group has 10 or fewer flies, compare all unique pairs.\n",
    "   - Shuffle the valid intra-group pairs and select up to a specified number (n_pairs_intra) to avoid duplicates.\n",
    "   - Compute the distance for each pair, optionally trimming the arrays to match in length.\n",
    "\n",
    "2. For inter-group comparisons:\n",
    "   - Generate all pairs where one fly comes from one experiment and the other fly from a different experiment.\n",
    "   - Shuffle and select up to n_pairs_inter pairs to ensure no duplicate comparisons.\n",
    "\n",
    "3. Normalize both the intra-group and inter-group distance lists to a [0, 1] range, then compute their means.\n",
    "4. Return the ratio of the intra-group mean to the inter-group mean.\n",
    "\"\"\""
   ],
   "id": "83dc459523d7408f",
   "outputs": [
    {
     "data": {
      "text/plain": [
       "'\\nAlgorithm Logic:\\n\\n1. For each experimental group (list of flies):\\n   - If there are more than 10 flies, split the group into blocks of 10.\\n     This ensures that comparisons are only made between flies from different blocks.\\n     For example, the first 10 flies (block 1) will be compared with the remaining flies (blocks 2+),\\n     and so on.\\n   - If the group has 10 or fewer flies, compare all unique pairs.\\n   - Shuffle the valid intra-group pairs and select up to a specified number (n_pairs_intra) to avoid duplicates.\\n   - Compute the distance for each pair, optionally trimming the arrays to match in length.\\n\\n2. For inter-group comparisons:\\n   - Generate all pairs where one fly comes from one experiment and the other fly from a different experiment.\\n   - Shuffle and select up to n_pairs_inter pairs to ensure no duplicate comparisons.\\n\\n3. Normalize both the intra-group and inter-group distance lists to a [0, 1] range, then compute their means.\\n4. Return the ratio of the intra-group mean to the inter-group mean.\\n'"
      ]
     },
     "execution_count": 6,
     "metadata": {},
     "output_type": "execute_result"
    }
   ],
   "execution_count": 6
  },
  {
   "metadata": {
    "ExecuteTime": {
     "end_time": "2025-02-02T12:06:58.343298Z",
     "start_time": "2025-02-02T12:06:58.338284Z"
    }
   },
   "cell_type": "code",
   "source": [
    "# Selected groups: Females Singles (index 1) and Males Grouped (index 3)\n",
    "selected_postprocessed = [ all_exps_arrays[1], all_exps_arrays[3] ]"
   ],
   "id": "d63fc65e352c922e",
   "outputs": [],
   "execution_count": 18
  },
  {
   "metadata": {
    "ExecuteTime": {
     "end_time": "2025-02-02T17:28:30.403628Z",
     "start_time": "2025-02-02T17:28:30.395034Z"
    }
   },
   "cell_type": "code",
   "source": [
    "# Prepare Scores DataFrames for the two selected groups\n",
    "# For scores, use original scores_index_map to filter:\n",
    "#   Females Singles: condition indices 5–9\n",
    "#   Males Grouped:    condition indices 15–19\n",
    "dfs_scores_females_singles = [\n",
    "    pd.DataFrame(all_flies_scores[global_idx])\n",
    "    for global_idx, (cond_idx, _) in scores_index_map.items()\n",
    "    if cond_idx in {5, 6, 7, 8, 9}\n",
    "]\n",
    "dfs_scores_males_grouped = [\n",
    "    pd.DataFrame(all_flies_scores[global_idx])\n",
    "    for global_idx, (cond_idx, _) in scores_index_map.items()\n",
    "    if cond_idx in {15, 16, 17, 18, 19}\n",
    "]\n",
    "selected_scores = [\n",
    "    [df.to_numpy() for df in dfs_scores_females_singles],\n",
    "    [df.to_numpy() for df in dfs_scores_males_grouped]\n",
    "]"
   ],
   "id": "184845a7fc61448b",
   "outputs": [],
   "execution_count": 7
  },
  {
   "metadata": {
    "ExecuteTime": {
     "end_time": "2025-02-02T17:28:31.587552Z",
     "start_time": "2025-02-02T17:28:31.581553Z"
    }
   },
   "cell_type": "code",
   "source": [
    "# For intervals, use original intervals_index_map to filter:\n",
    "#   Females Singles: condition indices 5–9\n",
    "#   Males Grouped:    condition indices 15–19\n",
    "dfs_intervals_females_singles = [\n",
    "    all_flies_intervals[global_idx]\n",
    "    for global_idx, (cond_idx, _) in intervals_index_map.items()\n",
    "    if cond_idx in {5, 6, 7, 8, 9} and len(all_flies_intervals[global_idx]) > 0\n",
    "]\n",
    "dfs_intervals_males_grouped = [\n",
    "    all_flies_intervals[global_idx]\n",
    "    for global_idx, (cond_idx, _) in intervals_index_map.items()\n",
    "    if cond_idx in {15, 16, 17, 18, 19} and len(all_flies_intervals[global_idx]) > 0\n",
    "]\n",
    "selected_intervals = [\n",
    "    [fly for fly in dfs_intervals_females_singles if fly],\n",
    "    [fly for fly in dfs_intervals_males_grouped if fly]\n",
    "]"
   ],
   "id": "c7123c51a9899cf9",
   "outputs": [],
   "execution_count": 8
  },
  {
   "metadata": {
    "ExecuteTime": {
     "end_time": "2025-02-02T12:51:42.563937Z",
     "start_time": "2025-02-02T12:51:34.627048Z"
    }
   },
   "cell_type": "code",
   "source": [
    "# Hamming approach real iter-intro ratio\n",
    "# Approach 1: Hamming Distance (using postprocessed data)\n",
    "if selected_postprocessed:\n",
    "    intra_a1, inter_a1, ratio_a1 = compute_intra_inter_distances(\n",
    "        selected_postprocessed, approach1_multi_hot_distance,\n",
    "        n_pairs_intra=2000, n_pairs_inter=2000,\n",
    "        trim_arrays=True\n",
    "    )\n",
    "else:\n",
    "    intra_a1, inter_a1, ratio_a1 = np.nan, np.nan, np.nan\n",
    "results1 = pd.DataFrame({\n",
    "    'Method': ['Approach1_Hamming'],\n",
    "    'Avg Intra-Group': [intra_a1],\n",
    "    'Avg Inter-Group': [inter_a1],\n",
    "    'Ratio (Intra/Inter)': [ratio_a1]\n",
    "})"
   ],
   "id": "7be8e5eca3b1aac0",
   "outputs": [],
   "execution_count": 71
  },
  {
   "metadata": {
    "ExecuteTime": {
     "end_time": "2025-02-02T12:51:34.622271Z",
     "start_time": "2025-02-02T12:51:26.421225Z"
    }
   },
   "cell_type": "code",
   "source": [
    "# Euclidian approach real iter-intro ratio\n",
    "# Approach 5: Euclidean Distance (using postprocessed data)\n",
    "if selected_postprocessed:\n",
    "    intra_a5, inter_a5, ratio_a5 = compute_intra_inter_distances(\n",
    "        selected_postprocessed, approach5_simple_euclidean_distance,\n",
    "        n_pairs_intra=2000, n_pairs_inter=2000,\n",
    "        trim_arrays=True\n",
    "    )\n",
    "else:\n",
    "    intra_a5, inter_a5, ratio_a5 = np.nan, np.nan, np.nan\n",
    "results5 = pd.DataFrame({\n",
    "    'Method': ['Approach5_Euclidean'],\n",
    "    'Avg Intra-Group': [intra_a5],\n",
    "    'Avg Inter-Group': [inter_a5],\n",
    "    'Ratio (Intra/Inter)': [ratio_a5]\n",
    "})"
   ],
   "id": "3ceaa8681263cbb0",
   "outputs": [],
   "execution_count": 70
  },
  {
   "metadata": {
    "ExecuteTime": {
     "end_time": "2025-02-02T12:46:07.071596Z",
     "start_time": "2025-02-02T12:37:27.533006Z"
    }
   },
   "cell_type": "code",
   "source": [
    "# Approach 3: Markov Distance (using scores data; comparisons reduced)\n",
    "if selected_scores and all(len(exp) > 1 for exp in selected_scores):\n",
    "    intra_a3, inter_a3, ratio_a3 = compute_intra_inter_distances(\n",
    "        selected_scores, approach3_markov_distance,\n",
    "        n_pairs_intra=20, n_pairs_inter=20,\n",
    "        trim_arrays=True\n",
    "    )\n",
    "else:\n",
    "    intra_a3, inter_a3, ratio_a3 = np.nan, np.nan, np.nan\n",
    "results3 = pd.DataFrame({\n",
    "    'Method': ['Approach3_HMM'],\n",
    "    'Avg Intra-Group': [intra_a3],\n",
    "    'Avg Inter-Group': [inter_a3],\n",
    "    'Ratio (Intra/Inter)': [ratio_a3]\n",
    "})"
   ],
   "id": "9ab86287816cc44",
   "outputs": [
    {
     "name": "stderr",
     "output_type": "stream",
     "text": [
      "Model is not converging.  Current: 177602.78601765138 is not greater than 177605.98763710776. Delta is -3.2016194563766476\n",
      "Model is not converging.  Current: 184847.0526959782 is not greater than 184847.23993750056. Delta is -0.18724152236245573\n",
      "Model is not converging.  Current: 160450.17441324252 is not greater than 160450.2619324879. Delta is -0.08751924536773004\n",
      "Model is not converging.  Current: 134950.4426522961 is not greater than 134950.46565089183. Delta is -0.022998595726676285\n",
      "Model is not converging.  Current: 158174.00484953696 is not greater than 158175.772833593. Delta is -1.7679840560304\n",
      "Model is not converging.  Current: 160553.7630642306 is not greater than 160553.83776690316. Delta is -0.07470267257303931\n",
      "Model is not converging.  Current: 162114.56266551718 is not greater than 162114.58283139727. Delta is -0.02016588009428233\n",
      "Model is not converging.  Current: 160553.76306708218 is not greater than 160553.83779917186. Delta is -0.07473208967712708\n",
      "Model is not converging.  Current: 180156.79705324426 is not greater than 180156.830203654. Delta is -0.033150409755762666\n",
      "Model is not converging.  Current: 132916.83536969632 is not greater than 132917.00697223155. Delta is -0.1716025352361612\n",
      "Model is not converging.  Current: 167276.5155670459 is not greater than 167276.53749841594. Delta is -0.021931370050879195\n",
      "Model is not converging.  Current: 104833.52061005827 is not greater than 104834.1931954391. Delta is -0.6725853808311513\n"
     ]
    }
   ],
   "execution_count": 66
  },
  {
   "metadata": {
    "ExecuteTime": {
     "end_time": "2025-02-02T12:58:28.547707Z",
     "start_time": "2025-02-02T12:52:23.076136Z"
    }
   },
   "cell_type": "code",
   "source": [
    "# Intervals approach real iter-intro ratio\n",
    "# Approach 2: Interval Distance (no trimming)\n",
    "if selected_intervals and all(len(exp) > 1 for exp in selected_intervals):\n",
    "    intra_a2, inter_a2, ratio_a2 = compute_intra_inter_distances(\n",
    "        selected_intervals, approach2_interval_distance,\n",
    "        n_pairs_intra=2000, n_pairs_inter=2000,\n",
    "        trim_arrays=False\n",
    "    )\n",
    "else:\n",
    "    intra_a2, inter_a2, ratio_a2 = np.nan, np.nan, np.nan\n",
    "results2 = pd.DataFrame({\n",
    "    'Method': ['Approach2_Intervals'],\n",
    "    'Avg Intra-Group': [intra_a2],\n",
    "    'Avg Inter-Group': [inter_a2],\n",
    "    'Ratio (Intra/Inter)': [ratio_a2]\n",
    "})\n"
   ],
   "id": "893b25d3968985f7",
   "outputs": [],
   "execution_count": 76
  },
  {
   "metadata": {
    "ExecuteTime": {
     "end_time": "2025-02-02T13:23:36.251714Z",
     "start_time": "2025-02-02T13:02:27.211783Z"
    }
   },
   "cell_type": "code",
   "source": [
    "# DTW approach real iter-intro ratio\n",
    "# Approach 4: DTW (using scores data)\n",
    "if selected_scores:\n",
    "    intra_a4, inter_a4, ratio_a4 = compute_intra_inter_distances(\n",
    "        selected_scores, approach4_scores_distance,\n",
    "        n_pairs_intra=100, n_pairs_inter=100,\n",
    "        trim_arrays=True\n",
    "    )\n",
    "else:\n",
    "    intra_a4, inter_a4, ratio_a4 = np.nan, np.nan, np.nan\n",
    "results4 = pd.DataFrame({\n",
    "    'Method': ['Approach4_DTW'],\n",
    "    'Avg Intra-Group': [intra_a4],\n",
    "    'Avg Inter-Group': [inter_a4],\n",
    "    'Ratio (Intra/Inter)': [ratio_a4]\n",
    "})"
   ],
   "id": "10eeb59de6a2caea",
   "outputs": [],
   "execution_count": 82
  },
  {
   "metadata": {
    "ExecuteTime": {
     "end_time": "2025-02-02T13:23:51.117245Z",
     "start_time": "2025-02-02T13:23:51.110247Z"
    }
   },
   "cell_type": "code",
   "source": [
    "# All results table\n",
    "all_results = pd.concat([results1, results2, results3, results4, results5], ignore_index=True)\n",
    "print(all_results)"
   ],
   "id": "c06b40e0647d880f",
   "outputs": [
    {
     "name": "stdout",
     "output_type": "stream",
     "text": [
      "                Method  Avg Intra-Group  Avg Inter-Group  Ratio (Intra/Inter)\n",
      "0    Approach1_Hamming         0.609251         0.619081             0.984122\n",
      "1  Approach2_Intervals         0.440857         0.457357             0.963923\n",
      "2        Approach3_HMM         0.050000         0.199297             0.250882\n",
      "3        Approach4_DTW         0.500802         0.391502             1.279182\n",
      "4  Approach5_Euclidean         0.651924         0.666268             0.978471\n"
     ]
    }
   ],
   "execution_count": 84
  },
  {
   "metadata": {
    "ExecuteTime": {
     "end_time": "2025-02-02T19:00:34.498686Z",
     "start_time": "2025-02-02T18:59:52.763473Z"
    }
   },
   "cell_type": "code",
   "source": [
    "# Usage with all_flies_scores\n",
    "#all_flies_scores = [...]  # list of (T, B) arrays, e.g. length=200\n",
    "save_folder = r\"D:\\Ilya\\Data\\GaussianHMM\"\n",
    "\n",
    "# 1) Train a model for a single fly: (n_hidden_states=5, n_iter=100)\n",
    "# train_and_save_gaussian_hmm(all_flies_scores[0], 0, save_folder)\n",
    "\n",
    "# 2) Train & save for all flies in a loop, skipping already saved models.\n",
    "train_and_save_hmms_for_all_flies(all_flies_scores, save_folder,\n",
    "                                    n_hidden_states=8,\n",
    "                                    n_iter=150, tol=1e-3,\n",
    "                                    covariance_type='full')\n",
    "\n",
    "# 3) Build a distance matrix from saved models.\n",
    "n_flies = len(all_flies_scores)\n",
    "dist_mat = build_distance_matrix_from_models(save_folder, n_flies)\n",
    "print(\"Distance matrix shape:\", dist_mat.shape)"
   ],
   "id": "f130e9fd511f5bdc",
   "outputs": [
    {
     "name": "stdout",
     "output_type": "stream",
     "text": [
      "Training model for Fly 0...\n"
     ]
    },
    {
     "name": "stderr",
     "output_type": "stream",
     "text": [
      "Model is not converging.  Current: 178135.8762943811 is not greater than 178136.07212778422. Delta is -0.1958334031223785\n"
     ]
    },
    {
     "name": "stdout",
     "output_type": "stream",
     "text": [
      "...Saved model for Fly 0 (file: D:\\Ilya\\Data\\GaussianHMM\\fly_0.pkl).\n",
      "Training model for Fly 1...\n"
     ]
    },
    {
     "name": "stderr",
     "output_type": "stream",
     "text": [
      "Model is not converging.  Current: 184187.18650841745 is not greater than 184187.31889947676. Delta is -0.13239105930551887\n"
     ]
    },
    {
     "name": "stdout",
     "output_type": "stream",
     "text": [
      "...Saved model for Fly 1 (file: D:\\Ilya\\Data\\GaussianHMM\\fly_1.pkl).\n",
      "Training model for Fly 2...\n",
      "...Saved model for Fly 2 (file: D:\\Ilya\\Data\\GaussianHMM\\fly_2.pkl).\n",
      "Fly 3: model already saved. Skipping.\n",
      "Fly 4: model already saved. Skipping.\n",
      "Fly 5: model already saved. Skipping.\n",
      "Fly 6: model already saved. Skipping.\n",
      "Fly 7: model already saved. Skipping.\n",
      "Fly 8: model already saved. Skipping.\n",
      "Fly 9: model already saved. Skipping.\n",
      "Fly 10: model already saved. Skipping.\n",
      "Fly 11: model already saved. Skipping.\n",
      "Fly 12: model already saved. Skipping.\n",
      "Fly 13: model already saved. Skipping.\n",
      "Fly 14: model already saved. Skipping.\n",
      "Fly 15: model already saved. Skipping.\n",
      "Fly 16: model already saved. Skipping.\n",
      "Fly 17: model already saved. Skipping.\n",
      "Fly 18: model already saved. Skipping.\n",
      "Fly 19: model already saved. Skipping.\n",
      "Fly 20: model already saved. Skipping.\n",
      "Fly 21: model already saved. Skipping.\n",
      "Fly 22: model already saved. Skipping.\n",
      "Fly 23: model already saved. Skipping.\n",
      "Fly 24: model already saved. Skipping.\n",
      "Fly 25: model already saved. Skipping.\n",
      "Fly 26: model already saved. Skipping.\n",
      "Fly 27: model already saved. Skipping.\n",
      "Fly 28: model already saved. Skipping.\n",
      "Fly 29: model already saved. Skipping.\n",
      "Fly 30: model already saved. Skipping.\n",
      "Fly 31: model already saved. Skipping.\n",
      "Fly 32: model already saved. Skipping.\n",
      "Fly 33: model already saved. Skipping.\n",
      "Fly 34: model already saved. Skipping.\n",
      "Fly 35: model already saved. Skipping.\n",
      "Fly 36: model already saved. Skipping.\n",
      "Fly 37: model already saved. Skipping.\n",
      "Fly 38: model already saved. Skipping.\n",
      "Fly 39: model already saved. Skipping.\n",
      "Fly 40: model already saved. Skipping.\n",
      "Fly 41: model already saved. Skipping.\n",
      "Fly 42: model already saved. Skipping.\n",
      "Fly 43: model already saved. Skipping.\n",
      "Fly 44: model already saved. Skipping.\n",
      "Fly 45: model already saved. Skipping.\n",
      "Fly 46: model already saved. Skipping.\n",
      "Fly 47: model already saved. Skipping.\n",
      "Fly 48: model already saved. Skipping.\n",
      "Fly 49: model already saved. Skipping.\n",
      "Fly 50: model already saved. Skipping.\n",
      "Fly 51: model already saved. Skipping.\n",
      "Fly 52: model already saved. Skipping.\n",
      "Fly 53: model already saved. Skipping.\n",
      "Fly 54: model already saved. Skipping.\n",
      "Fly 55: model already saved. Skipping.\n",
      "Fly 56: model already saved. Skipping.\n",
      "Fly 57: model already saved. Skipping.\n",
      "Fly 58: model already saved. Skipping.\n",
      "Fly 59: model already saved. Skipping.\n",
      "Fly 60: model already saved. Skipping.\n",
      "Fly 61: model already saved. Skipping.\n",
      "Fly 62: model already saved. Skipping.\n",
      "Fly 63: model already saved. Skipping.\n",
      "Fly 64: model already saved. Skipping.\n",
      "Fly 65: model already saved. Skipping.\n",
      "Fly 66: model already saved. Skipping.\n",
      "Fly 67: model already saved. Skipping.\n",
      "Fly 68: model already saved. Skipping.\n",
      "Fly 69: model already saved. Skipping.\n",
      "Fly 70: model already saved. Skipping.\n",
      "Fly 71: model already saved. Skipping.\n",
      "Fly 72: model already saved. Skipping.\n",
      "Fly 73: model already saved. Skipping.\n",
      "Fly 74: model already saved. Skipping.\n",
      "Fly 75: model already saved. Skipping.\n",
      "Fly 76: model already saved. Skipping.\n",
      "Fly 77: model already saved. Skipping.\n",
      "Fly 78: model already saved. Skipping.\n",
      "Fly 79: model already saved. Skipping.\n",
      "Fly 80: model already saved. Skipping.\n",
      "Fly 81: model already saved. Skipping.\n",
      "Fly 82: model already saved. Skipping.\n",
      "Fly 83: model already saved. Skipping.\n",
      "Fly 84: model already saved. Skipping.\n",
      "Fly 85: model already saved. Skipping.\n",
      "Fly 86: model already saved. Skipping.\n",
      "Fly 87: model already saved. Skipping.\n",
      "Fly 88: model already saved. Skipping.\n",
      "Fly 89: model already saved. Skipping.\n",
      "Fly 90: model already saved. Skipping.\n",
      "Fly 91: model already saved. Skipping.\n",
      "Fly 92: model already saved. Skipping.\n",
      "Fly 93: model already saved. Skipping.\n",
      "Fly 94: model already saved. Skipping.\n",
      "Fly 95: model already saved. Skipping.\n",
      "Fly 96: model already saved. Skipping.\n",
      "Fly 97: model already saved. Skipping.\n",
      "Fly 98: model already saved. Skipping.\n",
      "Fly 99: model already saved. Skipping.\n",
      "Fly 100: model already saved. Skipping.\n",
      "Fly 101: model already saved. Skipping.\n",
      "Fly 102: model already saved. Skipping.\n",
      "Fly 103: model already saved. Skipping.\n",
      "Fly 104: model already saved. Skipping.\n",
      "Fly 105: model already saved. Skipping.\n",
      "Fly 106: model already saved. Skipping.\n",
      "Fly 107: model already saved. Skipping.\n",
      "Fly 108: model already saved. Skipping.\n",
      "Fly 109: model already saved. Skipping.\n",
      "Fly 110: model already saved. Skipping.\n",
      "Fly 111: model already saved. Skipping.\n",
      "Fly 112: model already saved. Skipping.\n",
      "Fly 113: model already saved. Skipping.\n",
      "Fly 114: model already saved. Skipping.\n",
      "Fly 115: model already saved. Skipping.\n",
      "Fly 116: model already saved. Skipping.\n",
      "Fly 117: model already saved. Skipping.\n",
      "Fly 118: model already saved. Skipping.\n",
      "Fly 119: model already saved. Skipping.\n",
      "Fly 120: model already saved. Skipping.\n",
      "Fly 121: model already saved. Skipping.\n",
      "Fly 122: model already saved. Skipping.\n",
      "Fly 123: model already saved. Skipping.\n",
      "Fly 124: model already saved. Skipping.\n",
      "Fly 125: model already saved. Skipping.\n",
      "Fly 126: model already saved. Skipping.\n",
      "Fly 127: model already saved. Skipping.\n",
      "Fly 128: model already saved. Skipping.\n",
      "Fly 129: model already saved. Skipping.\n",
      "Fly 130: model already saved. Skipping.\n",
      "Fly 131: model already saved. Skipping.\n",
      "Fly 132: model already saved. Skipping.\n",
      "Fly 133: model already saved. Skipping.\n",
      "Fly 134: model already saved. Skipping.\n",
      "Fly 135: model already saved. Skipping.\n",
      "Fly 136: model already saved. Skipping.\n",
      "Fly 137: model already saved. Skipping.\n",
      "Fly 138: model already saved. Skipping.\n",
      "Fly 139: model already saved. Skipping.\n",
      "Fly 140: model already saved. Skipping.\n",
      "Fly 141: model already saved. Skipping.\n",
      "Fly 142: model already saved. Skipping.\n",
      "Fly 143: model already saved. Skipping.\n",
      "Fly 144: model already saved. Skipping.\n",
      "Fly 145: model already saved. Skipping.\n",
      "Fly 146: model already saved. Skipping.\n",
      "Fly 147: model already saved. Skipping.\n",
      "Fly 148: model already saved. Skipping.\n",
      "Fly 149: model already saved. Skipping.\n",
      "Fly 150: model already saved. Skipping.\n",
      "Fly 151: model already saved. Skipping.\n",
      "Fly 152: model already saved. Skipping.\n",
      "Fly 153: model already saved. Skipping.\n",
      "Fly 154: model already saved. Skipping.\n",
      "Fly 155: model already saved. Skipping.\n",
      "Fly 156: model already saved. Skipping.\n",
      "Fly 157: model already saved. Skipping.\n",
      "Fly 158: model already saved. Skipping.\n",
      "Fly 159: model already saved. Skipping.\n",
      "Fly 160: model already saved. Skipping.\n",
      "Fly 161: model already saved. Skipping.\n",
      "Fly 162: model already saved. Skipping.\n",
      "Fly 163: model already saved. Skipping.\n",
      "Fly 164: model already saved. Skipping.\n",
      "Fly 165: model already saved. Skipping.\n",
      "Fly 166: model already saved. Skipping.\n",
      "Fly 167: model already saved. Skipping.\n",
      "Fly 168: model already saved. Skipping.\n",
      "Fly 169: model already saved. Skipping.\n",
      "Fly 170: model already saved. Skipping.\n",
      "Fly 171: model already saved. Skipping.\n",
      "Fly 172: model already saved. Skipping.\n",
      "Fly 173: model already saved. Skipping.\n",
      "Fly 174: model already saved. Skipping.\n",
      "Fly 175: model already saved. Skipping.\n",
      "Fly 176: model already saved. Skipping.\n",
      "Fly 177: model already saved. Skipping.\n",
      "Fly 178: model already saved. Skipping.\n",
      "Fly 179: model already saved. Skipping.\n",
      "Fly 180: model already saved. Skipping.\n",
      "Fly 181: model already saved. Skipping.\n",
      "Fly 182: model already saved. Skipping.\n",
      "Fly 183: model already saved. Skipping.\n",
      "Fly 184: model already saved. Skipping.\n",
      "Fly 185: model already saved. Skipping.\n",
      "Fly 186: model already saved. Skipping.\n",
      "Fly 187: model already saved. Skipping.\n",
      "Fly 188: model already saved. Skipping.\n",
      "Fly 189: model already saved. Skipping.\n",
      "Fly 190: model already saved. Skipping.\n",
      "Fly 191: model already saved. Skipping.\n",
      "Fly 192: model already saved. Skipping.\n",
      "Fly 193: model already saved. Skipping.\n",
      "Fly 194: model already saved. Skipping.\n",
      "Fly 195: model already saved. Skipping.\n",
      "Fly 196: model already saved. Skipping.\n",
      "Fly 197: model already saved. Skipping.\n",
      "Fly 198: model already saved. Skipping.\n",
      "Fly 199: model already saved. Skipping.\n"
     ]
    },
    {
     "name": "stderr",
     "output_type": "stream",
     "text": [
      "C:\\Users\\labophir\\AppData\\Local\\Temp\\ipykernel_7356\\4024366693.py:135: DeprecationWarning: Conversion of an array with ndim > 0 to a scalar is deprecated, and will error in future. Ensure you extract a single element from your array before performing this operation. (Deprecated NumPy 1.25.)\n",
      "  mahal = float(diff.T @ invSigma2 @ diff)\n"
     ]
    },
    {
     "name": "stdout",
     "output_type": "stream",
     "text": [
      "Distance matrix shape: (200, 200)\n"
     ]
    }
   ],
   "execution_count": 12
  },
  {
   "metadata": {},
   "cell_type": "markdown",
   "source": "# SIMPLE FLY ANALYSING USING DISTANCE APPROACHES",
   "id": "e849aa9aa99e1525"
  },
  {
   "metadata": {},
   "cell_type": "markdown",
   "source": "# Clustering",
   "id": "7067dc48f4d3d666"
  },
  {
   "metadata": {
    "ExecuteTime": {
     "end_time": "2025-02-02T19:35:21.712564Z",
     "start_time": "2025-02-02T19:35:21.706549Z"
    }
   },
   "cell_type": "code",
   "outputs": [
    {
     "name": "stdout",
     "output_type": "stream",
     "text": [
      "[[ 0.00000000e+00  9.81497451e+05 -1.11760764e+15 ...  1.94294872e+06\n",
      "   9.29512211e+05  4.13014503e+05]\n",
      " [ 9.81497451e+05  0.00000000e+00 -5.85339955e+15 ...  7.27947347e+05\n",
      "   2.71748825e+05  1.67015652e+05]\n",
      " [-1.11760764e+15 -5.85339955e+15  0.00000000e+00 ...  6.19740385e+15\n",
      "  -1.57405946e+15 -3.72729365e+15]\n",
      " ...\n",
      " [ 1.94294872e+06  7.27947347e+05  6.19740385e+15 ...  0.00000000e+00\n",
      "   9.62415697e+05  1.13605624e+06]\n",
      " [ 9.29512211e+05  2.71748825e+05 -1.57405946e+15 ...  9.62415697e+05\n",
      "   0.00000000e+00  1.76438156e+05]\n",
      " [ 4.13014503e+05  1.67015652e+05 -3.72729365e+15 ...  1.13605624e+06\n",
      "   1.76438156e+05  0.00000000e+00]]\n"
     ]
    }
   ],
   "execution_count": 29,
   "source": "",
   "id": "fddec1eaf29942e8"
  },
  {
   "metadata": {
    "ExecuteTime": {
     "end_time": "2025-02-02T19:20:06.956738Z",
     "start_time": "2025-02-02T19:20:06.948227Z"
    }
   },
   "cell_type": "code",
   "outputs": [
    {
     "name": "stdout",
     "output_type": "stream",
     "text": [
      "Females_Grouped (50 flies): [0, 1, 2, 3, 4, 5, 6, 7, 8, 9, 10, 11, 12, 13, 14, 15, 16, 17, 18, 19, 20, 21, 22, 23, 24, 25, 26, 27, 28, 29, 30, 31, 32, 33, 34, 35, 36, 37, 38, 39, 40, 41, 42, 43, 44, 45, 46, 47, 48, 49]\n",
      "Females_Singles (50 flies): [50, 51, 52, 53, 54, 55, 56, 57, 58, 59, 60, 61, 62, 63, 64, 65, 66, 67, 68, 69, 70, 71, 72, 73, 74, 75, 76, 77, 78, 79, 80, 81, 82, 83, 84, 85, 86, 87, 88, 89, 90, 91, 92, 93, 94, 95, 96, 97, 98, 99]\n",
      "Males_Single (50 flies): [100, 101, 102, 103, 104, 105, 106, 107, 108, 109, 110, 111, 112, 113, 114, 115, 116, 117, 118, 119, 120, 121, 122, 123, 124, 125, 126, 127, 128, 129, 130, 131, 132, 133, 134, 135, 136, 137, 138, 139, 140, 141, 142, 143, 144, 145, 146, 147, 148, 149]\n",
      "Males_Grouped (50 flies): [150, 151, 152, 153, 154, 155, 156, 157, 158, 159, 160, 161, 162, 163, 164, 165, 166, 167, 168, 169, 170, 171, 172, 173, 174, 175, 176, 177, 178, 179, 180, 181, 182, 183, 184, 185, 186, 187, 188, 189, 190, 191, 192, 193, 194, 195, 196, 197, 198, 199]\n",
      "Overall_Females (100 flies): [0, 1, 2, 3, 4, 5, 6, 7, 8, 9, 10, 11, 12, 13, 14, 15, 16, 17, 18, 19, 20, 21, 22, 23, 24, 25, 26, 27, 28, 29, 30, 31, 32, 33, 34, 35, 36, 37, 38, 39, 40, 41, 42, 43, 44, 45, 46, 47, 48, 49, 50, 51, 52, 53, 54, 55, 56, 57, 58, 59, 60, 61, 62, 63, 64, 65, 66, 67, 68, 69, 70, 71, 72, 73, 74, 75, 76, 77, 78, 79, 80, 81, 82, 83, 84, 85, 86, 87, 88, 89, 90, 91, 92, 93, 94, 95, 96, 97, 98, 99]\n",
      "Overall_Males (100 flies): [100, 101, 102, 103, 104, 105, 106, 107, 108, 109, 110, 111, 112, 113, 114, 115, 116, 117, 118, 119, 120, 121, 122, 123, 124, 125, 126, 127, 128, 129, 130, 131, 132, 133, 134, 135, 136, 137, 138, 139, 140, 141, 142, 143, 144, 145, 146, 147, 148, 149, 150, 151, 152, 153, 154, 155, 156, 157, 158, 159, 160, 161, 162, 163, 164, 165, 166, 167, 168, 169, 170, 171, 172, 173, 174, 175, 176, 177, 178, 179, 180, 181, 182, 183, 184, 185, 186, 187, 188, 189, 190, 191, 192, 193, 194, 195, 196, 197, 198, 199]\n"
     ]
    }
   ],
   "execution_count": 20,
   "source": [
    "# Preparing\n",
    "#       cond_idx 0–4  → Females_Grouped (50 flies)\n",
    "#       cond_idx 5–9  → Females_Singles (50 flies)\n",
    "#       cond_idx 10–14 → Males_Single    (50 flies)\n",
    "#       cond_idx 15–19 → Males_Grouped   (50 flies)\n",
    "\n",
    "# Create indices for each original condition:\n",
    "indices_fg = [i for i, (cond, _) in scores_index_map.items() if cond in set(range(0, 5))]\n",
    "indices_fs = [i for i, (cond, _) in scores_index_map.items() if cond in set(range(5, 10))]\n",
    "indices_ms = [i for i, (cond, _) in scores_index_map.items() if cond in set(range(10, 15))]\n",
    "indices_mg = [i for i, (cond, _) in scores_index_map.items() if cond in set(range(15, 20))]\n",
    "\n",
    "# Create merged groups:\n",
    "overall_females = indices_fg + indices_fs   # 50 + 50 = 100 flies\n",
    "overall_males   = indices_ms + indices_mg     # 50 + 50 = 100 flies\n",
    "overall_singles = indices_fs + indices_ms     # 50 + 50 = 100 flies\n",
    "overall_groups  = indices_fg + indices_mg     # 50 + 50 = 100 flies\n",
    "\n",
    "# Build a dictionary mapping group names to lists of indices:\n",
    "groups_index_map = {\n",
    "    \"Females_Grouped\": indices_fg,\n",
    "    \"Females_Singles\": indices_fs,\n",
    "    \"Males_Single\":    indices_ms,\n",
    "    \"Males_Grouped\":   indices_mg,\n",
    "    \"Overall_Females\": overall_females,\n",
    "    \"Overall_Males\":   overall_males\n",
    "}\n",
    "\n",
    "# Optionally, print the group indices and total counts:\n",
    "for group_name, idx_list in groups_index_map.items():\n",
    "    print(f\"{group_name} ({len(idx_list)} flies): {idx_list}\")\n"
   ],
   "id": "3803315f788b586"
  },
  {
   "metadata": {
    "ExecuteTime": {
     "end_time": "2025-02-02T19:20:29.958770Z",
     "start_time": "2025-02-02T19:20:29.953414Z"
    }
   },
   "cell_type": "code",
   "outputs": [],
   "execution_count": 22,
   "source": [
    "###############################################################################\n",
    "# PART 2: Build a function to compute robust similarity for each group\n",
    "###############################################################################\n",
    "\n",
    "def robust_similarity_for_group(dist_mat, indices, outlier_frac=0.1):\n",
    "    \"\"\"\n",
    "    Computes a robust similarity measure (median pairwise distance among inliers)\n",
    "    for a given group from a larger distance matrix.\n",
    "\n",
    "    dist_mat: (N x N) distance matrix for all flies\n",
    "    indices: list of fly indices belonging to this group\n",
    "    outlier_frac: fraction of outliers to remove (top % by MDS-centroid distance)\n",
    "\n",
    "    Returns: float robust similarity measure (lower => more similar)\n",
    "    \"\"\"\n",
    "    if len(indices) < 2:\n",
    "        return np.nan\n",
    "\n",
    "    # Extract sub-matrix for these flies\n",
    "    sub_mat = dist_mat[np.ix_(indices, indices)]\n",
    "    N_sub = len(indices)\n",
    "\n",
    "    # MDS to embed in 2D\n",
    "    mds = MDS(n_components=2, dissimilarity='precomputed', random_state=42)\n",
    "    coords = mds.fit_transform(sub_mat)\n",
    "\n",
    "    # Compute centroid & distance from centroid\n",
    "    centroid = np.mean(coords, axis=0)\n",
    "    dists = np.linalg.norm(coords - centroid, axis=1)\n",
    "\n",
    "    # Filter out top outlier_frac\n",
    "    threshold = np.percentile(dists, 100*(1-outlier_frac))\n",
    "    inlier_mask = (dists <= threshold)\n",
    "    if np.sum(inlier_mask) < 2:\n",
    "        inlier_mask = np.ones_like(inlier_mask, dtype=bool)\n",
    "\n",
    "    # Median pairwise distance among inliers\n",
    "    sub_inlier = sub_mat[np.ix_(inlier_mask, inlier_mask)]\n",
    "    triu_indices = np.triu_indices_from(sub_inlier, k=1)\n",
    "    robust_sim = np.median(sub_inlier[triu_indices])\n",
    "    return robust_sim"
   ],
   "id": "8472c03399982467"
  },
  {
   "metadata": {
    "ExecuteTime": {
     "end_time": "2025-02-02T19:47:51.757797Z",
     "start_time": "2025-02-02T19:47:51.747780Z"
    }
   },
   "cell_type": "code",
   "source": [
    "###############################################################################\n",
    "# 1. Define a function to transform and plot the distance matrix with clustering.\n",
    "###############################################################################\n",
    "\n",
    "def plot_mds_kmeans_custom_scaled(df_distance, groups_index_map, title=\"MDS + KMeans (6 clusters)\"):\n",
    "    \"\"\"\n",
    "    Plots an MDS embedding of the distance matrix after applying a scaling transformation,\n",
    "    then clusters the embedded points with KMeans (6 clusters). Each point is colored by\n",
    "    its true group (from groups_index_map) and marked with a shape corresponding to its\n",
    "    predicted cluster.\n",
    "\n",
    "    Parameters:\n",
    "      df_distance      : a pandas DataFrame (200×200) containing the raw distance matrix.\n",
    "      groups_index_map : dict mapping true group names to lists of fly indices.\n",
    "                         For example:\n",
    "                         {\n",
    "                           \"Females_Grouped\": [...],\n",
    "                           \"Females_Singles\": [...],\n",
    "                           \"Males_Single\":    [...],\n",
    "                           \"Males_Grouped\":   [...],\n",
    "                           \"Overall_Females\": [...],\n",
    "                           \"Overall_Males\":   [...]\n",
    "                         }\n",
    "      title            : Title for the plot.\n",
    "    \"\"\"\n",
    "    # Get the raw distance matrix.\n",
    "    dist_mat = df_distance.values.copy()\n",
    "\n",
    "    # --- Distance Matrix Scaling ---\n",
    "    # Shift if negative values exist.\n",
    "    min_val = np.min(dist_mat)\n",
    "    offset = -min_val if min_val < 0 else 0\n",
    "    dist_mat_adj = dist_mat + offset\n",
    "    # Apply logarithmic compression.\n",
    "    dist_mat_transformed = np.log1p(dist_mat_adj)\n",
    "\n",
    "    # --- Improved MDS Embedding ---\n",
    "    mds = MDS(n_components=2, dissimilarity='precomputed', random_state=42,\n",
    "              n_init=10, metric=True)\n",
    "    coords_2d = mds.fit_transform(dist_mat_transformed)\n",
    "\n",
    "    # --- KMeans Clustering with 6 clusters ---\n",
    "    kmeans = KMeans(n_clusters=6, random_state=42)\n",
    "    cluster_labels = kmeans.fit_predict(coords_2d)\n",
    "\n",
    "    # --- Build a mapping from fly index to true group ---\n",
    "    fly_to_group = {}\n",
    "    for group_name, idx_list in groups_index_map.items():\n",
    "        for idx in idx_list:\n",
    "            fly_to_group[idx] = group_name\n",
    "\n",
    "    # Define a color mapping for true groups.\n",
    "    group_color_map = {\n",
    "        \"Females_Grouped\": \"red\",\n",
    "        \"Females_Singles\": \"blue\",\n",
    "        \"Males_Single\":    \"green\",\n",
    "        \"Males_Grouped\":   \"orange\",\n",
    "        \"Overall_Females\": \"magenta\",\n",
    "        \"Overall_Males\":   \"cyan\"\n",
    "    }\n",
    "    # Define a shape mapping for predicted cluster labels.\n",
    "    cluster_shape_map = {\n",
    "        0: 'o',\n",
    "        1: 's',\n",
    "        2: '^',\n",
    "        3: 'd',\n",
    "        4: 'p',\n",
    "        5: 'v'\n",
    "    }\n",
    "\n",
    "    # --- Plotting ---\n",
    "    plt.figure(figsize=(12, 8))\n",
    "    for i in range(len(df_distance)):\n",
    "        true_group = fly_to_group.get(i, \"Unknown\")\n",
    "        color = group_color_map.get(true_group, \"black\")\n",
    "        shape = cluster_shape_map.get(cluster_labels[i], 'o')\n",
    "        plt.scatter(coords_2d[i, 0], coords_2d[i, 1],\n",
    "                    c=color, marker=shape, s=40, alpha=0.6, edgecolor='k')\n",
    "        plt.text(coords_2d[i, 0] + 0.01, coords_2d[i, 1] + 0.01, f\"{i}\", fontsize=8)\n",
    "    plt.title(title)\n",
    "    plt.xlabel(\"MDS Dimension 1\")\n",
    "    plt.ylabel(\"MDS Dimension 2\")\n",
    "    plt.grid(True)\n",
    "    plt.show()\n"
   ],
   "id": "1a71993af4024a94",
   "outputs": [],
   "execution_count": 30
  },
  {
   "metadata": {
    "ExecuteTime": {
     "end_time": "2025-02-02T19:47:56.336772Z",
     "start_time": "2025-02-02T19:47:54.244429Z"
    }
   },
   "cell_type": "code",
   "source": [
    "# 1) Calculate robust similarity per group\n",
    "results = []\n",
    "similarities = []\n",
    "\n",
    "for gname, idx_list in groups_index_map.items():\n",
    "    sim = robust_similarity_for_group(dist_mat, idx_list, outlier_frac=0.1)\n",
    "    similarities.append(sim)\n",
    "    results.append({\"Group\": gname, \"Robust Similarity\": sim})\n",
    "\n",
    "# Normalize similarities by the maximum value only\n",
    "max_sim = max(similarities) if similarities else 1  # Avoid division by zero\n",
    "df_results = pd.DataFrame(results)\n",
    "\n",
    "df_results[\"Normalized Similarity\"] = df_results[\"Robust Similarity\"].apply(\n",
    "    lambda x: (x / max_sim) * 100 if max_sim != 0 else 0\n",
    ")\n",
    "\n",
    "# Print results\n",
    "print(\"Robust Similarity Measures (lower = more homogeneous):\")\n",
    "print(df_results)\n",
    "\n",
    "# 2) Convert dist_mat to DataFrame and run MDS+KMeans with color/shape\n",
    "df_distance = pd.DataFrame(dist_mat)\n",
    "\n",
    "plot_mds_kmeans_custom_scaled(df_distance, groups_index_map,\n",
    "                                title=\"Approach3_HMM - MDS + KMeans (6 Clusters, 200 flies)\")"
   ],
   "id": "142cce5bcc3b3e7f",
   "outputs": [
    {
     "name": "stdout",
     "output_type": "stream",
     "text": [
      "Robust Similarity Measures (lower = more homogeneous):\n",
      "             Group  Robust Similarity  Normalized Similarity\n",
      "0  Females_Grouped      700046.905655             100.000000\n",
      "1  Females_Singles      432185.349960              61.736627\n",
      "2     Males_Single      448506.417576              64.068052\n",
      "3    Males_Grouped      523179.413957              74.734908\n",
      "4  Overall_Females      548455.978982              78.345604\n",
      "5    Overall_Males      498211.699588              71.168331\n"
     ]
    },
    {
     "data": {
      "text/plain": [
       "<Figure size 1200x800 with 1 Axes>"
      ],
      "image/png": "[encoded data removed]"
     },
     "metadata": {},
     "output_type": "display_data"
    }
   ],
   "execution_count": 31
  },
  {
   "metadata": {},
   "cell_type": "code",
   "outputs": [],
   "execution_count": null,
   "source": "############################",
   "id": "dc2f94df551750b3"
  },
  {
   "metadata": {
    "ExecuteTime": {
     "end_time": "2025-02-02T19:57:09.414853Z",
     "start_time": "2025-02-02T19:57:09.402300Z"
    }
   },
   "cell_type": "code",
   "source": [
    "def normalize_distances(dist_list):\n",
    "    arr = np.array(dist_list)\n",
    "    if len(arr) == 0:\n",
    "        return arr\n",
    "    mn, mx = arr.min(), arr.max()\n",
    "    if mx == mn:\n",
    "        return arr\n",
    "    return (arr - mn) / (mx - mn)\n",
    "\n",
    "def compute_intra_inter_from_dist_matrix(dist_mat, indices_group1, indices_group2,\n",
    "                                           n_pairs_intra=50, n_pairs_inter=50):\n",
    "    \"\"\"\n",
    "    Computes the mean normalized intra-group distance and mean normalized inter-group distance\n",
    "    from a precomputed distance matrix, then returns their ratio.\n",
    "\n",
    "    Parameters:\n",
    "      dist_mat       : NxN numpy array (precomputed distance matrix).\n",
    "      indices_group1 : list of indices for group 1.\n",
    "      indices_group2 : list of indices for group 2.\n",
    "      n_pairs_intra  : maximum number of intra-group comparisons per group.\n",
    "      n_pairs_inter  : maximum number of inter-group comparisons.\n",
    "\n",
    "    Returns:\n",
    "      intra_mean: normalized mean intra-group distance (averaged over both groups).\n",
    "      inter_mean: normalized mean inter-group distance.\n",
    "      ratio     : intra_mean / inter_mean (if inter_mean > 0, else np.inf).\n",
    "    \"\"\"\n",
    "    intra_dists = []\n",
    "    inter_dists = []\n",
    "\n",
    "    # Intra-group comparisons for Group1\n",
    "    pairs_g1 = list(itertools.combinations(indices_group1, 2))\n",
    "    if len(pairs_g1) > n_pairs_intra:\n",
    "        sampled_g1 = random.sample(pairs_g1, n_pairs_intra)\n",
    "    else:\n",
    "        sampled_g1 = pairs_g1\n",
    "    for (i, j) in sampled_g1:\n",
    "        intra_dists.append(dist_mat[i, j])\n",
    "\n",
    "    # Intra-group comparisons for Group2\n",
    "    pairs_g2 = list(itertools.combinations(indices_group2, 2))\n",
    "    if len(pairs_g2) > n_pairs_intra:\n",
    "        sampled_g2 = random.sample(pairs_g2, n_pairs_intra)\n",
    "    else:\n",
    "        sampled_g2 = pairs_g2\n",
    "    for (i, j) in sampled_g2:\n",
    "        intra_dists.append(dist_mat[i, j])\n",
    "\n",
    "    # Inter-group comparisons: all pairs between group1 and group2\n",
    "    inter_pairs = [(i, j) for i in indices_group1 for j in indices_group2]\n",
    "    if len(inter_pairs) > n_pairs_inter:\n",
    "        sampled_inter = random.sample(inter_pairs, n_pairs_inter)\n",
    "    else:\n",
    "        sampled_inter = inter_pairs\n",
    "    for (i, j) in sampled_inter:\n",
    "        inter_dists.append(dist_mat[i, j])\n",
    "\n",
    "    # Normalize the distances for intra and inter comparisons\n",
    "    intra_norm = normalize_distances(intra_dists)\n",
    "    inter_norm = normalize_distances(inter_dists)\n",
    "\n",
    "    intra_mean = intra_norm.mean() if len(intra_norm) > 0 else np.nan\n",
    "    inter_mean = inter_norm.mean() if len(inter_norm) > 0 else np.nan\n",
    "    ratio = intra_mean / inter_mean if inter_mean and inter_mean != 0 else np.inf\n",
    "    return intra_mean, inter_mean, ratio\n",
    "\n",
    "###############################################################################\n",
    "# Example Execution for Two Groups:\n",
    "# Females Singles: condition indices 5–9\n",
    "# Males Grouped:    condition indices 15–19\n",
    "###############################################################################\n",
    "\n",
    "# Assume:\n",
    "# - dist_mat is our precomputed 200x200 distance matrix (numpy array).\n",
    "# - scores_index_map is a dict mapping global fly index to (cond_idx, local_fly_idx).\n",
    "#   For scores:\n",
    "#       cond_idx in {5,6,7,8,9} → Females Singles (50 flies)\n",
    "#       cond_idx in {15,16,17,18,19} → Males Grouped (50 flies)\n",
    "\n",
    "# Create indices for Females Singles and Males Grouped from scores_index_map:\n",
    "indices_fs = [i for i, (cond, _) in scores_index_map.items() if cond in {5,6,7,8,9}]\n",
    "indices_mg = [i for i, (cond, _) in scores_index_map.items() if cond in {15,16,17,18,19}]\n",
    "\n",
    "# Now compute the intra/inter distances and ratio using the precomputed dist_mat:\n",
    "intra_mean, inter_mean, ratio = compute_intra_inter_from_dist_matrix(\n",
    "    dist_mat, indices_fs, indices_mg, n_pairs_intra=2500, n_pairs_inter=2500\n",
    ")\n",
    "\n",
    "print(\"Intra-group mean (normalized):\", intra_mean)\n",
    "print(\"Inter-group mean (normalized):\", inter_mean)\n",
    "print(\"Ratio (Intra/Inter):\", ratio)\n"
   ],
   "id": "38ae805d778e5ec8",
   "outputs": [
    {
     "name": "stdout",
     "output_type": "stream",
     "text": [
      "Intra-group mean (normalized): 0.011976434735138911\n",
      "Inter-group mean (normalized): 0.028532610376546506\n",
      "Ratio (Intra/Inter): 0.4197454974180494\n"
     ]
    }
   ],
   "execution_count": 44
  },
  {
   "metadata": {
    "ExecuteTime": {
     "end_time": "2025-02-02T19:55:51.646191Z",
     "start_time": "2025-02-02T19:55:51.643768Z"
    }
   },
   "cell_type": "code",
   "source": "",
   "id": "a6235a03b4c7c52c",
   "outputs": [],
   "execution_count": null
  },
  {
   "metadata": {
    "ExecuteTime": {
     "end_time": "2025-02-02T20:15:33.462583Z",
     "start_time": "2025-02-02T20:15:33.111198Z"
    }
   },
   "cell_type": "code",
   "source": [
    "def plot_mds_kmeans_subset(dist_mat, indices_group1, indices_group2, n_subgroup=5, title=\"MDS + KMeans Clusters\"):\n",
    "    \"\"\"\n",
    "    Visualize clustering for two groups using MDS and KMeans.\n",
    "    Only n_subgroup flies are taken from each group to limit the total points.\n",
    "\n",
    "    Parameters:\n",
    "      dist_mat      : full NxN distance matrix (numpy array).\n",
    "      indices_group1: list of indices for group 1 (e.g., up to 50).\n",
    "      indices_group2: list of indices for group 2 (e.g., up to 50).\n",
    "      n_subgroup    : how many flies to select from each group. (e.g. 5 => total 10)\n",
    "      title         : Plot title.\n",
    "    \"\"\"\n",
    "    # 1) Subset each group to n_subgroup flies.\n",
    "    #    If the group is smaller than n_subgroup, take the entire group.\n",
    "    g1_subset = indices_group1[:n_subgroup]\n",
    "    g2_subset = indices_group2[:n_subgroup]\n",
    "\n",
    "    # 2) Combine them.\n",
    "    subset_indices = g1_subset + g2_subset\n",
    "    # Build sub-distance matrix\n",
    "    sub_dist_mat = dist_mat[np.ix_(subset_indices, subset_indices)]\n",
    "\n",
    "    # 3) MDS\n",
    "    mds = MDS(n_components=2, dissimilarity='precomputed', random_state=42, n_init=10)\n",
    "    coords_2d = mds.fit_transform(sub_dist_mat)\n",
    "\n",
    "    # 4) K-Means with 2 clusters\n",
    "    kmeans = KMeans(n_clusters=2, random_state=42)\n",
    "    cluster_labels = kmeans.fit_predict(coords_2d)\n",
    "\n",
    "    # 5) Color and shape mapping\n",
    "    #    Group1: Blue, Group2: Red\n",
    "    color_map = [(\"blue\" if idx in g1_subset else \"red\") for idx in subset_indices]\n",
    "    #    KMeans label => shape\n",
    "    shape_map = ['o' if lbl == 0 else 's' for lbl in cluster_labels]\n",
    "\n",
    "    # 6) Plot\n",
    "    plt.figure(figsize=(8,6))\n",
    "    for i, global_idx in enumerate(subset_indices):\n",
    "        x, y = coords_2d[i]\n",
    "        plt.scatter(x, y, c=color_map[i], marker=shape_map[i], s=100, edgecolor='black')\n",
    "        plt.text(x+0.01, y+0.01, str(global_idx), fontsize=8)\n",
    "\n",
    "    # 7) Legend\n",
    "    legend_elements = [\n",
    "        Line2D([0], [0], marker='o', color='w', markerfacecolor='blue',\n",
    "               markersize=8, label=\"Group 1 (True)\"),\n",
    "        Line2D([0], [0], marker='o', color='w', markerfacecolor='red',\n",
    "               markersize=8, label=\"Group 2 (True)\"),\n",
    "        Line2D([0], [0], marker='o', color='w', markeredgecolor='black',\n",
    "               markersize=8, label=\"KMeans Cluster 0\"),\n",
    "        Line2D([0], [0], marker='s', color='w', markeredgecolor='black',\n",
    "               markersize=8, label=\"KMeans Cluster 1\")\n",
    "    ]\n",
    "    plt.legend(handles=legend_elements, loc=\"best\")\n",
    "    plt.title(title)\n",
    "    plt.xlabel(\"MDS Dimension 1\")\n",
    "    plt.ylabel(\"MDS Dimension 2\")\n",
    "    plt.grid(True)\n",
    "    plt.show()\n",
    "\n",
    "# ---------------------------------------------------------------------------\n",
    "# Example usage:\n",
    "#   dist_mat: 200x200 array\n",
    "#   indices_fs: Females Singles (50 indices)\n",
    "#   indices_mg: Males Grouped (50 indices)\n",
    "#   We want 5 from each => total 10 points.\n",
    "\n",
    "plot_mds_kmeans_subset(dist_mat, indices_fs, indices_mg,\n",
    "    n_subgroup=10,\n",
    "    title=\"MDS + KMeans Clusters: Females Singles vs. Males Grouped (20 flies only)\")\n"
   ],
   "id": "e2c3eacdd27068dc",
   "outputs": [
    {
     "data": {
      "text/plain": [
       "<Figure size 800x600 with 1 Axes>"
      ],
      "image/png": "[encoded data removed]"
     },
     "metadata": {},
     "output_type": "display_data"
    }
   ],
   "execution_count": 56
  },
  {
   "metadata": {},
   "cell_type": "code",
   "outputs": [],
   "execution_count": null,
   "source": "",
   "id": "4dc56ddc774e77f9"
  }
 ],
 "metadata": {
  "kernelspec": {
   "display_name": "Python 3",
   "language": "python",
   "name": "python3"
  },
  "language_info": {
   "codemirror_mode": {
    "name": "ipython",
    "version": 2
   },
   "file_extension": ".py",
   "mimetype": "text/x-python",
   "name": "python",
   "nbconvert_exporter": "python",
   "pygments_lexer": "ipython2",
   "version": "2.7.6"
  }
 },
 "nbformat": 4,
 "nbformat_minor": 5
}
