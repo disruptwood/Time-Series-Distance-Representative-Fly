{
 "cells": [
  {
   "cell_type": "code",
   "id": "initial_id",
   "metadata": {
    "collapsed": true,
    "ExecuteTime": {
     "end_time": "2025-01-28T18:55:17.418059Z",
     "start_time": "2025-01-28T18:55:17.365337Z"
    }
   },
   "source": [
    "# Comment: Import everything we need for this test notebook.\n",
    "import os\n",
    "import numpy as np\n",
    "import pandas as pd\n",
    "\n",
    "from data_loading.gather_mat_files_multiple import gather_mat_files_multiple_condition\n",
    "from data_loading.load_intervals import load_intervals_data\n",
    "from data_loading.load_scores import load_scores_data\n",
    "from data_loading.load_postprocessed import load_postprocessed_data\n",
    "\n",
    "# Comment: Define the base folder that contains your multiple-condition subfolders.\n",
    "base_folder = r\"D:\\behavior_ethogram_project_Ilya\"\n",
    "\n",
    "# Comment: Gather .mat files per condition (list-of-lists) and discover condition names.\n",
    "all_condition_files, condition_names = gather_mat_files_multiple_condition([base_folder])\n",
    "\n",
    "# Comment: Load interval data for all flies in all conditions.\n",
    "all_flies_intervals, intervals_index_map, intervals_cond_names = load_intervals_data(\n",
    "    all_condition_files,\n",
    "    single=False,\n",
    "    condition_names=condition_names\n",
    ")\n",
    "\n",
    "# Comment: Load continuous scores data (with per-file scoreNorm).\n",
    "all_flies_scores, scores_index_map, scores_cond_names = load_scores_data(\n",
    "    all_condition_files,\n",
    "    single=False,\n",
    "    condition_names=condition_names\n",
    ")\n",
    "\n",
    "# Comment: Load postprocessed (binary) data.\n",
    "all_flies_post, post_index_map, post_cond_names = load_postprocessed_data(\n",
    "    all_condition_files,\n",
    "    single=False,\n",
    "    condition_names=condition_names\n",
    ")\n",
    "\n",
    "# Comment: Let's pick the \"last loaded fly\" from each dataset to inspect.\n",
    "# The total number of flies is len(all_flies_*) for each approach.\n",
    "# We'll just pick the final entry in these lists:\n",
    "last_intervals = all_flies_intervals[-1]   # This is a list of intervals for that fly.\n",
    "last_scores   = all_flies_scores[-1]       # This is a (T, B) array of scores for that fly.\n",
    "last_post     = all_flies_post[-1]         # This is a (T, B) binary array for that fly.\n",
    "\n",
    "########################################################################################\n",
    "# Comment: Build a table for intervals (the \"first intervals\" for each behavior).\n",
    "# Note: The 'load_intervals_data' structure might have appended intervals from multiple .mat files\n",
    "#       If each .mat corresponds to a separate behavior, we can sample the earliest interval from each.\n",
    "\n",
    "# We'll assume the \"last_intervals\" is a single list of dictionaries:\n",
    "#  [ {\"tStart\": val, \"tEnd\": val}, ... ] across all behaviors.\n",
    "# If you want them grouped by behavior, you'd need to store that info. We'll assume we can chunk them.\n",
    "\n",
    "intervals_df_rows = []\n",
    "# Suppose each .mat is a separate behavior => we can just enumerate them in chunks if we know how many\n",
    "# intervals per behavior. If that's not tracked, we'll just show the entire list or the first intervals.\n",
    "# Here, we'll pick the first interval from each chunk of intervals if you prefer that logic.\n",
    "\n",
    "# For simplicity, let's treat each dictionary as a separate \"interval row\" in a single table.\n",
    "for i, iv in enumerate(last_intervals):\n",
    "    intervals_df_rows.append({\n",
    "        \"IntervalIndex\": i,\n",
    "        \"tStart\": iv[\"tStart\"],\n",
    "        \"tEnd\":   iv[\"tEnd\"]\n",
    "    })\n",
    "\n",
    "intervals_df = pd.DataFrame(intervals_df_rows)\n",
    "intervals_df\n"
   ],
   "outputs": [
    {
     "ename": "ValueError",
     "evalue": "too many values to unpack (expected 2)",
     "output_type": "error",
     "traceback": [
      "\u001B[1;31m---------------------------------------------------------------------------\u001B[0m",
      "\u001B[1;31mValueError\u001B[0m                                Traceback (most recent call last)",
      "Cell \u001B[1;32mIn[34], line 15\u001B[0m\n\u001B[0;32m     12\u001B[0m base_folder \u001B[38;5;241m=\u001B[39m \u001B[38;5;124mr\u001B[39m\u001B[38;5;124m\"\u001B[39m\u001B[38;5;124mD:\u001B[39m\u001B[38;5;124m\\\u001B[39m\u001B[38;5;124mbehavior_ethogram_project_Ilya\u001B[39m\u001B[38;5;124m\"\u001B[39m\n\u001B[0;32m     14\u001B[0m \u001B[38;5;66;03m# Comment: Gather .mat files per condition (list-of-lists) and discover condition names.\u001B[39;00m\n\u001B[1;32m---> 15\u001B[0m all_condition_files, condition_names \u001B[38;5;241m=\u001B[39m gather_mat_files_multiple_condition([base_folder])\n\u001B[0;32m     17\u001B[0m \u001B[38;5;66;03m# Comment: Load interval data for all flies in all conditions.\u001B[39;00m\n\u001B[0;32m     18\u001B[0m all_flies_intervals, intervals_index_map, intervals_cond_names \u001B[38;5;241m=\u001B[39m load_intervals_data(\n\u001B[0;32m     19\u001B[0m     all_condition_files,\n\u001B[0;32m     20\u001B[0m     single\u001B[38;5;241m=\u001B[39m\u001B[38;5;28;01mFalse\u001B[39;00m,\n\u001B[0;32m     21\u001B[0m     condition_names\u001B[38;5;241m=\u001B[39mcondition_names\n\u001B[0;32m     22\u001B[0m )\n",
      "\u001B[1;31mValueError\u001B[0m: too many values to unpack (expected 2)"
     ]
    }
   ],
   "execution_count": 34
  },
  {
   "metadata": {
    "ExecuteTime": {
     "end_time": "2025-01-28T14:49:35.443511Z",
     "start_time": "2025-01-28T14:49:35.423912Z"
    }
   },
   "cell_type": "code",
   "source": [
    "# Comment: Build a table for scores. The user wants the maximum for this last loaded fly,\n",
    "#          plus we demonstrate before/after normalization info. However, the provided\n",
    "#          load_scores_data function already divides by scoreNorm, so we only have normalized values\n",
    "#          in 'last_scores'. If we want the \"raw\" data, we'd need to modify that loader\n",
    "#          to store raw arrays as well. For demo, let's just show the maximum post-normalized score.\n",
    "\n",
    "# last_scores is shape (T, B). We'll compute max per behavior (column).\n",
    "beh_count = last_scores.shape[1]\n",
    "score_table_rows = []\n",
    "for b_idx in range(beh_count):\n",
    "    col_data = last_scores[:, b_idx]\n",
    "    # ignoring NaNs\n",
    "    valid_col = col_data[~np.isnan(col_data)]\n",
    "    max_val = valid_col.max() if len(valid_col) > 0 else np.nan\n",
    "    score_table_rows.append({\n",
    "        \"BehaviorIndex\": b_idx,\n",
    "        \"MaxPostNormScore\": max_val,\n",
    "        # If we had the raw array or separate scoreNorm, we could show them, but\n",
    "        # by default load_scores_data divides by scoreNorm in place.\n",
    "        \"ScoreNorm_PLACEHOLDER\": \"Need custom code to show actual norm\"\n",
    "    })\n",
    "\n",
    "scores_df = pd.DataFrame(score_table_rows)\n",
    "scores_df\n"
   ],
   "id": "6ac4ad6e4d22ce4d",
   "outputs": [],
   "execution_count": 30
  },
  {
   "metadata": {
    "ExecuteTime": {
     "end_time": "2025-01-28T14:49:38.874351Z",
     "start_time": "2025-01-28T14:49:38.773823Z"
    }
   },
   "cell_type": "code",
   "source": [
    "# Comment: Build a table for binary postprocessed data. The user wants for each behavior:\n",
    "#          the number of 1's and the number of 0's in last_fly_post (excluding NaN).\n",
    "\n",
    "binary_table_rows = []\n",
    "if last_post.ndim == 2:\n",
    "    B = last_post.shape[1]\n",
    "    for b_idx in range(B):\n",
    "        col = last_post[:, b_idx]\n",
    "        # filter out nan\n",
    "        col_no_nan = col[~np.isnan(col)]\n",
    "        # count how many are 1, how many are 0\n",
    "        num_ones  = np.sum(col_no_nan == 1)\n",
    "        num_zeros = np.sum(col_no_nan == 0)\n",
    "        binary_table_rows.append({\n",
    "            \"BehaviorIndex\": b_idx,\n",
    "            \"Count1s\": int(num_ones),\n",
    "            \"Count0s\": int(num_zeros)\n",
    "        })\n",
    "else:\n",
    "    # If it's not 2D, handle differently\n",
    "    pass\n",
    "\n",
    "binary_df = pd.DataFrame(binary_table_rows)\n",
    "binary_df\n"
   ],
   "id": "931747c5cf7a2461",
   "outputs": [
    {
     "name": "stdout",
     "output_type": "stream",
     "text": [
      "Warning: No scores_*.mat files found in D:\\\\behavior_ethogram_project_Ilya\\Assa_Females_Mated_Unknown_RigA_20220207T130211\n",
      "Warning: No scores_*.mat files found in D:\\\\behavior_ethogram_project_Ilya\\Assa_Females_Singles_Unknown_RigA_20220206T100525\n",
      "\n",
      "=== Testing Scores Data Loading Across Multiple Conditions ===\n",
      "Gathering .mat files from these folders:\n",
      "D:\\\\behavior_ethogram_project_Ilya\\Assa_Females_Mated_Unknown_RigA_20220207T130211\n",
      "D:\\\\behavior_ethogram_project_Ilya\\Assa_Females_Singles_Unknown_RigA_20220206T100525\n",
      "Flies Data Paths Structure:\n",
      "[]\n",
      "Number of conditions detected: 0\n"
     ]
    },
    {
     "ename": "IndexError",
     "evalue": "list index out of range",
     "output_type": "error",
     "traceback": [
      "\u001B[1;31m---------------------------------------------------------------------------\u001B[0m",
      "\u001B[1;31mIndexError\u001B[0m                                Traceback (most recent call last)",
      "Cell \u001B[1;32mIn[31], line 17\u001B[0m\n\u001B[0;32m     14\u001B[0m     \u001B[38;5;28mprint\u001B[39m(\u001B[38;5;124mf\u001B[39m\u001B[38;5;124m\"\u001B[39m\u001B[38;5;124mCondition \u001B[39m\u001B[38;5;132;01m{\u001B[39;00mi\u001B[38;5;132;01m}\u001B[39;00m\u001B[38;5;124m: \u001B[39m\u001B[38;5;132;01m{\u001B[39;00m\u001B[38;5;28mlen\u001B[39m(condition)\u001B[38;5;132;01m}\u001B[39;00m\u001B[38;5;124m flies\u001B[39m\u001B[38;5;124m\"\u001B[39m)\n\u001B[0;32m     16\u001B[0m \u001B[38;5;66;03m# Ensure flies_data_paths is a list of lists\u001B[39;00m\n\u001B[1;32m---> 17\u001B[0m \u001B[38;5;28;01mif\u001B[39;00m \u001B[38;5;28misinstance\u001B[39m(\u001B[43mflies_data_paths\u001B[49m\u001B[43m[\u001B[49m\u001B[38;5;241;43m0\u001B[39;49m\u001B[43m]\u001B[49m, \u001B[38;5;28mlist\u001B[39m):\n\u001B[0;32m     18\u001B[0m     all_flies, _, _ \u001B[38;5;241m=\u001B[39m load_scores_data(flies_data_paths, single\u001B[38;5;241m=\u001B[39m\u001B[38;5;28;01mFalse\u001B[39;00m)\n\u001B[0;32m     19\u001B[0m \u001B[38;5;28;01melse\u001B[39;00m:\n",
      "\u001B[1;31mIndexError\u001B[0m: list index out of range"
     ]
    }
   ],
   "execution_count": 31
  },
  {
   "metadata": {
    "ExecuteTime": {
     "end_time": "2025-01-28T12:28:48.099480Z",
     "start_time": "2025-01-28T12:28:47.604044Z"
    }
   },
   "cell_type": "code",
   "source": [
    "#Test Postprocessed Data Loading\n",
    "print(\"\\n=== Testing Postprocessed Data Loading ===\")\n",
    "all_flies, _, _ = load_postprocessed_data(flies_data_paths[:1], single=True)\n",
    "\n",
    "table = PrettyTable()\n",
    "table.field_names = [\"Local Index\", \"Global Index\", \"Condition Name\", \"First Non-Empty Value\"]\n",
    "\n",
    "global_index = 0\n",
    "for fly_idx, fly_data in enumerate(all_flies[:20]):  # Limit to 20 entries\n",
    "    for behavior_idx in range(fly_data.shape[1]):\n",
    "        behavior_data = fly_data[:, behavior_idx]\n",
    "        non_empty_indices = (~pd.isna(behavior_data) & (behavior_data != 0)).nonzero()[0]\n",
    "\n",
    "        if len(non_empty_indices) > 0:\n",
    "            first_non_empty = behavior_data[non_empty_indices[0]]\n",
    "            table.add_row([fly_idx, global_index, condition_names[0], first_non_empty])\n",
    "\n",
    "        global_index += 1\n",
    "\n",
    "print(table)"
   ],
   "id": "26b8f4ded96c72a8",
   "outputs": [
    {
     "name": "stdout",
     "output_type": "stream",
     "text": [
      "\n",
      "=== Testing Postprocessed Data Loading ===\n"
     ]
    },
    {
     "ename": "RuntimeError",
     "evalue": "For multiple conditions, index_map and condition_names must be provided.",
     "output_type": "error",
     "traceback": [
      "\u001B[1;31m---------------------------------------------------------------------------\u001B[0m",
      "\u001B[1;31mRuntimeError\u001B[0m                              Traceback (most recent call last)",
      "Cell \u001B[1;32mIn[12], line 3\u001B[0m\n\u001B[0;32m      1\u001B[0m \u001B[38;5;66;03m#Test Postprocessed Data Loading\u001B[39;00m\n\u001B[0;32m      2\u001B[0m \u001B[38;5;28mprint\u001B[39m(\u001B[38;5;124m\"\u001B[39m\u001B[38;5;130;01m\\n\u001B[39;00m\u001B[38;5;124m=== Testing Postprocessed Data Loading ===\u001B[39m\u001B[38;5;124m\"\u001B[39m)\n\u001B[1;32m----> 3\u001B[0m all_flies, _, _ \u001B[38;5;241m=\u001B[39m \u001B[43mload_postprocessed_data\u001B[49m\u001B[43m(\u001B[49m\u001B[43mflies_data_paths\u001B[49m\u001B[43m[\u001B[49m\u001B[43m:\u001B[49m\u001B[38;5;241;43m1\u001B[39;49m\u001B[43m]\u001B[49m\u001B[43m,\u001B[49m\u001B[43m \u001B[49m\u001B[43msingle\u001B[49m\u001B[38;5;241;43m=\u001B[39;49m\u001B[38;5;28;43;01mFalse\u001B[39;49;00m\u001B[43m)\u001B[49m\n\u001B[0;32m      5\u001B[0m table \u001B[38;5;241m=\u001B[39m PrettyTable()\n\u001B[0;32m      6\u001B[0m table\u001B[38;5;241m.\u001B[39mfield_names \u001B[38;5;241m=\u001B[39m [\u001B[38;5;124m\"\u001B[39m\u001B[38;5;124mLocal Index\u001B[39m\u001B[38;5;124m\"\u001B[39m, \u001B[38;5;124m\"\u001B[39m\u001B[38;5;124mGlobal Index\u001B[39m\u001B[38;5;124m\"\u001B[39m, \u001B[38;5;124m\"\u001B[39m\u001B[38;5;124mCondition Name\u001B[39m\u001B[38;5;124m\"\u001B[39m, \u001B[38;5;124m\"\u001B[39m\u001B[38;5;124mFirst Non-Empty Value\u001B[39m\u001B[38;5;124m\"\u001B[39m]\n",
      "File \u001B[1;32mD:\\Users\\Ilya\\TimeSeriesDistance\\data_loading\\load_postprocessed.py:77\u001B[0m, in \u001B[0;36mload_postprocessed_data\u001B[1;34m(mat_files, single, index_map, condition_names)\u001B[0m\n\u001B[0;32m     75\u001B[0m \u001B[38;5;28;01melse\u001B[39;00m:\n\u001B[0;32m     76\u001B[0m     \u001B[38;5;28;01mif\u001B[39;00m index_map \u001B[38;5;129;01mis\u001B[39;00m \u001B[38;5;28;01mNone\u001B[39;00m \u001B[38;5;129;01mor\u001B[39;00m condition_names \u001B[38;5;129;01mis\u001B[39;00m \u001B[38;5;28;01mNone\u001B[39;00m:\n\u001B[1;32m---> 77\u001B[0m         \u001B[38;5;28;01mraise\u001B[39;00m \u001B[38;5;167;01mRuntimeError\u001B[39;00m(\u001B[38;5;124m\"\u001B[39m\u001B[38;5;124mFor multiple conditions, index_map and condition_names must be provided.\u001B[39m\u001B[38;5;124m\"\u001B[39m)\n\u001B[0;32m     79\u001B[0m \u001B[38;5;28;01mreturn\u001B[39;00m all_flies, index_map, condition_names\n",
      "\u001B[1;31mRuntimeError\u001B[0m: For multiple conditions, index_map and condition_names must be provided."
     ]
    }
   ],
   "execution_count": 12
  },
  {
   "metadata": {
    "ExecuteTime": {
     "end_time": "2025-01-28T12:27:13.599299Z",
     "start_time": "2025-01-28T12:27:13.559008Z"
    }
   },
   "cell_type": "code",
   "source": [
    "#Test Intervals Data Loading\n",
    "print(\"\\n=== Testing Intervals Data Loading ===\")\n",
    "all_flies, _, _ = load_intervals_data(flies_data_paths[:1], single=True)  # Test only the first condition\n",
    "\n",
    "table = PrettyTable()\n",
    "table.field_names = [\"Local Index\", \"Global Index\", \"Condition Name\", \"First Start\", \"First End\"]\n",
    "\n",
    "global_index = 0\n",
    "for fly_idx, fly_data in enumerate(all_flies[:20]):  # Limit to 20 entries\n",
    "    if len(fly_data) > 0:\n",
    "        first_start = fly_data[0][\"tStart\"] if \"tStart\" in fly_data[0] else None\n",
    "        first_end = fly_data[0][\"tEnd\"] if \"tEnd\" in fly_data[0] else None\n",
    "        table.add_row([fly_idx, global_index, condition_names[0], first_start, first_end])\n",
    "\n",
    "    global_index += 1\n",
    "\n",
    "print(table)"
   ],
   "id": "f8c5c33663e5b683",
   "outputs": [
    {
     "name": "stdout",
     "output_type": "stream",
     "text": [
      "\n",
      "=== Testing Intervals Data Loading ===\n",
      "+-------------+--------------+----------------------------------------------------+-------------+-----------+\n",
      "| Local Index | Global Index |                   Condition Name                   | First Start | First End |\n",
      "+-------------+--------------+----------------------------------------------------+-------------+-----------+\n",
      "|      0      |      0       | Assa_Females_Grouped__Unknown_RigA_20220206T090743 |     435     |    481    |\n",
      "|      1      |      1       | Assa_Females_Grouped__Unknown_RigA_20220206T090743 |      36     |     37    |\n",
      "|      2      |      2       | Assa_Females_Grouped__Unknown_RigA_20220206T090743 |      27     |     28    |\n",
      "|      3      |      3       | Assa_Females_Grouped__Unknown_RigA_20220206T090743 |     877     |    880    |\n",
      "|      4      |      4       | Assa_Females_Grouped__Unknown_RigA_20220206T090743 |     182     |    195    |\n",
      "|      5      |      5       | Assa_Females_Grouped__Unknown_RigA_20220206T090743 |      89     |     91    |\n",
      "|      6      |      6       | Assa_Females_Grouped__Unknown_RigA_20220206T090743 |      54     |     55    |\n",
      "|      7      |      7       | Assa_Females_Grouped__Unknown_RigA_20220206T090743 |      12     |     13    |\n",
      "|      8      |      8       | Assa_Females_Grouped__Unknown_RigA_20220206T090743 |     412     |    413    |\n",
      "|      9      |      9       | Assa_Females_Grouped__Unknown_RigA_20220206T090743 |      51     |     60    |\n",
      "+-------------+--------------+----------------------------------------------------+-------------+-----------+\n"
     ]
    }
   ],
   "execution_count": 11
  },
  {
   "metadata": {
    "ExecuteTime": {
     "end_time": "2025-01-28T19:00:03.278487Z",
     "start_time": "2025-01-28T19:00:03.269776Z"
    }
   },
   "cell_type": "code",
   "source": "print(gather_mat_files_multiple_condition([base_folder]))",
   "id": "f11cce352d269678",
   "outputs": [
    {
     "name": "stdout",
     "output_type": "stream",
     "text": [
      "(['D:\\\\behavior_ethogram_project_Ilya\\\\Assa_Females_Mated_Unknown_RigA_20220207T130211\\\\scores_Grooming.mat', 'D:\\\\behavior_ethogram_project_Ilya\\\\Assa_Females_Mated_Unknown_RigA_20220207T130211\\\\scores_Jump.mat', 'D:\\\\behavior_ethogram_project_Ilya\\\\Assa_Females_Mated_Unknown_RigA_20220207T130211\\\\scores_Long_Distance_Approach.mat', 'D:\\\\behavior_ethogram_project_Ilya\\\\Assa_Females_Mated_Unknown_RigA_20220207T130211\\\\scores_Long_Lasting_Interaction.mat', 'D:\\\\behavior_ethogram_project_Ilya\\\\Assa_Females_Mated_Unknown_RigA_20220207T130211\\\\scores_Short_Distance_Approach.mat', 'D:\\\\behavior_ethogram_project_Ilya\\\\Assa_Females_Mated_Unknown_RigA_20220207T130211\\\\scores_Social_Clustering.mat', 'D:\\\\behavior_ethogram_project_Ilya\\\\Assa_Females_Mated_Unknown_RigA_20220207T130211\\\\scores_Stable_Interaction.mat', 'D:\\\\behavior_ethogram_project_Ilya\\\\Assa_Females_Mated_Unknown_RigA_20220207T130211\\\\scores_Stop.mat', 'D:\\\\behavior_ethogram_project_Ilya\\\\Assa_Females_Mated_Unknown_RigA_20220207T130211\\\\scores_Touch.mat', 'D:\\\\behavior_ethogram_project_Ilya\\\\Assa_Females_Mated_Unknown_RigA_20220207T130211\\\\scores_Turn.mat', 'D:\\\\behavior_ethogram_project_Ilya\\\\Assa_Females_Mated_Unknown_RigA_20220207T130211\\\\scores_Walk.mat', 'D:\\\\behavior_ethogram_project_Ilya\\\\Assa_Females_Singles_Unknown_RigA_20220206T100525\\\\scores_Grooming.mat', 'D:\\\\behavior_ethogram_project_Ilya\\\\Assa_Females_Singles_Unknown_RigA_20220206T100525\\\\scores_Jump.mat', 'D:\\\\behavior_ethogram_project_Ilya\\\\Assa_Females_Singles_Unknown_RigA_20220206T100525\\\\scores_Long_Distance_Approach.mat', 'D:\\\\behavior_ethogram_project_Ilya\\\\Assa_Females_Singles_Unknown_RigA_20220206T100525\\\\scores_Long_Lasting_Interaction.mat', 'D:\\\\behavior_ethogram_project_Ilya\\\\Assa_Females_Singles_Unknown_RigA_20220206T100525\\\\scores_Short_Distance_Approach.mat', 'D:\\\\behavior_ethogram_project_Ilya\\\\Assa_Females_Singles_Unknown_RigA_20220206T100525\\\\scores_Social_Clustering.mat', 'D:\\\\behavior_ethogram_project_Ilya\\\\Assa_Females_Singles_Unknown_RigA_20220206T100525\\\\scores_Stable_Interaction.mat', 'D:\\\\behavior_ethogram_project_Ilya\\\\Assa_Females_Singles_Unknown_RigA_20220206T100525\\\\scores_Stop.mat', 'D:\\\\behavior_ethogram_project_Ilya\\\\Assa_Females_Singles_Unknown_RigA_20220206T100525\\\\scores_Touch.mat', 'D:\\\\behavior_ethogram_project_Ilya\\\\Assa_Females_Singles_Unknown_RigA_20220206T100525\\\\scores_Turn.mat', 'D:\\\\behavior_ethogram_project_Ilya\\\\Assa_Females_Singles_Unknown_RigA_20220206T100525\\\\scores_Walk.mat'], {0: (0, 0), 1: (0, 1), 2: (0, 2), 3: (0, 3), 4: (0, 4), 5: (0, 5), 6: (0, 6), 7: (0, 7), 8: (0, 8), 9: (0, 9), 10: (0, 10), 11: (0, 11), 12: (0, 12), 13: (0, 13), 14: (0, 14), 15: (0, 15), 16: (0, 16), 17: (0, 17), 18: (0, 18), 19: (0, 19), 20: (0, 20), 21: (0, 21)}, ['behavior_ethogram_project_Ilya'])\n"
     ]
    }
   ],
   "execution_count": 37
  }
 ],
 "metadata": {
  "kernelspec": {
   "display_name": "Python 3",
   "language": "python",
   "name": "python3"
  },
  "language_info": {
   "codemirror_mode": {
    "name": "ipython",
    "version": 2
   },
   "file_extension": ".py",
   "mimetype": "text/x-python",
   "name": "python",
   "nbconvert_exporter": "python",
   "pygments_lexer": "ipython2",
   "version": "2.7.6"
  }
 },
 "nbformat": 4,
 "nbformat_minor": 5
}
